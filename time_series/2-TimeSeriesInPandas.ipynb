{
 "metadata": {
  "name": ""
 },
 "nbformat": 3,
 "nbformat_minor": 0,
 "worksheets": [
  {
   "cells": [
    {
     "cell_type": "heading",
     "level": 1,
     "metadata": {},
     "source": [
      "Remember Our S&P500 Friends?"
     ]
    },
    {
     "cell_type": "code",
     "collapsed": false,
     "input": [
      "import pandas as pd\n",
      "from pandas import DataFrame, Series\n",
      "import pandas.io.data as web\n",
      "import datetime\n",
      "import numpy as np"
     ],
     "language": "python",
     "metadata": {},
     "outputs": [],
     "prompt_number": 1
    },
    {
     "cell_type": "code",
     "collapsed": false,
     "input": [
      "SnP500_tbl = pd.ExcelFile('S&P500\\\\S&P500_Feb2014.xlsx').parse('S&P500')\n",
      "SnP500_stock_data = {}\n",
      "for ticker in list(SnP500_tbl['Ticker symbol']) + ['^GSPC']:\n",
      "    SnP500_stock_data[ticker] = pd.read_csv('S&P500\\\\S&P500_Data_%s.csv' % ticker, index_col=0, parse_dates=True)"
     ],
     "language": "python",
     "metadata": {},
     "outputs": [],
     "prompt_number": 2
    },
    {
     "cell_type": "code",
     "collapsed": false,
     "input": [
      "SnP500_Prices = DataFrame({tic: data['Adj Close']\n",
      "                           for tic, data in SnP500_stock_data.iteritems()})\n",
      "SnP500_Volume = DataFrame({tic: data['Volume']\n",
      "                           for tic, data in SnP500_stock_data.iteritems()})\n",
      "SnP500_Panel = pd.Panel(SnP500_stock_data)"
     ],
     "language": "python",
     "metadata": {},
     "outputs": [],
     "prompt_number": 3
    },
    {
     "cell_type": "heading",
     "level": 1,
     "metadata": {},
     "source": [
      "How about An Update?"
     ]
    },
    {
     "cell_type": "code",
     "collapsed": false,
     "input": [
      "last_date_in_data = SnP500_Prices.index[-1] + datetime.timedelta(days=1) # Commenting that last bit out generates some overlap\n",
      "date_today = datetime.date.today()\n",
      "New_SnP500_stock_data_from_web = {}\n",
      "for ticker in list(SnP500_tbl['Ticker symbol']) + ['^GSPC']:\n",
      "    New_SnP500_stock_data_from_web[ticker] = web.get_data_yahoo(ticker, last_date_in_data, date_today)"
     ],
     "language": "python",
     "metadata": {},
     "outputs": [],
     "prompt_number": 4
    },
    {
     "cell_type": "code",
     "collapsed": false,
     "input": [
      "SnP500_stock_data['AAPL'][-10:]"
     ],
     "language": "python",
     "metadata": {},
     "outputs": [
      {
       "html": [
        "<div style=\"max-height:1000px;max-width:1500px;overflow:auto;\">\n",
        "<table border=\"1\" class=\"dataframe\">\n",
        "  <thead>\n",
        "    <tr style=\"text-align: right;\">\n",
        "      <th></th>\n",
        "      <th>Open</th>\n",
        "      <th>High</th>\n",
        "      <th>Low</th>\n",
        "      <th>Close</th>\n",
        "      <th>Volume</th>\n",
        "      <th>Adj Close</th>\n",
        "    </tr>\n",
        "    <tr>\n",
        "      <th>Date</th>\n",
        "      <th></th>\n",
        "      <th></th>\n",
        "      <th></th>\n",
        "      <th></th>\n",
        "      <th></th>\n",
        "      <th></th>\n",
        "    </tr>\n",
        "  </thead>\n",
        "  <tbody>\n",
        "    <tr>\n",
        "      <th>2014-02-03</th>\n",
        "      <td> 502.61</td>\n",
        "      <td> 507.73</td>\n",
        "      <td> 499.30</td>\n",
        "      <td> 501.53</td>\n",
        "      <td> 14338000</td>\n",
        "      <td> 498.55</td>\n",
        "    </tr>\n",
        "    <tr>\n",
        "      <th>2014-02-04</th>\n",
        "      <td> 505.85</td>\n",
        "      <td> 509.46</td>\n",
        "      <td> 502.76</td>\n",
        "      <td> 508.79</td>\n",
        "      <td> 13452900</td>\n",
        "      <td> 505.76</td>\n",
        "    </tr>\n",
        "    <tr>\n",
        "      <th>2014-02-05</th>\n",
        "      <td> 506.56</td>\n",
        "      <td> 515.28</td>\n",
        "      <td> 506.25</td>\n",
        "      <td> 512.59</td>\n",
        "      <td> 11726600</td>\n",
        "      <td> 509.54</td>\n",
        "    </tr>\n",
        "    <tr>\n",
        "      <th>2014-02-06</th>\n",
        "      <td> 510.06</td>\n",
        "      <td> 513.50</td>\n",
        "      <td> 507.81</td>\n",
        "      <td> 512.51</td>\n",
        "      <td>  9205900</td>\n",
        "      <td> 512.51</td>\n",
        "    </tr>\n",
        "    <tr>\n",
        "      <th>2014-02-07</th>\n",
        "      <td> 521.38</td>\n",
        "      <td> 522.93</td>\n",
        "      <td> 517.38</td>\n",
        "      <td> 519.68</td>\n",
        "      <td> 13224300</td>\n",
        "      <td> 519.68</td>\n",
        "    </tr>\n",
        "    <tr>\n",
        "      <th>2014-02-10</th>\n",
        "      <td> 518.66</td>\n",
        "      <td> 531.99</td>\n",
        "      <td> 518.00</td>\n",
        "      <td> 528.99</td>\n",
        "      <td> 12341400</td>\n",
        "      <td> 528.99</td>\n",
        "    </tr>\n",
        "    <tr>\n",
        "      <th>2014-02-11</th>\n",
        "      <td> 530.61</td>\n",
        "      <td> 537.75</td>\n",
        "      <td> 529.50</td>\n",
        "      <td> 535.96</td>\n",
        "      <td> 10080600</td>\n",
        "      <td> 535.96</td>\n",
        "    </tr>\n",
        "    <tr>\n",
        "      <th>2014-02-12</th>\n",
        "      <td> 536.95</td>\n",
        "      <td> 539.56</td>\n",
        "      <td> 533.24</td>\n",
        "      <td> 535.92</td>\n",
        "      <td> 11003600</td>\n",
        "      <td> 535.92</td>\n",
        "    </tr>\n",
        "    <tr>\n",
        "      <th>2014-02-13</th>\n",
        "      <td> 534.66</td>\n",
        "      <td> 544.85</td>\n",
        "      <td> 534.20</td>\n",
        "      <td> 544.43</td>\n",
        "      <td> 10978500</td>\n",
        "      <td> 544.43</td>\n",
        "    </tr>\n",
        "    <tr>\n",
        "      <th>2014-02-14</th>\n",
        "      <td> 542.47</td>\n",
        "      <td> 545.98</td>\n",
        "      <td> 541.21</td>\n",
        "      <td> 543.99</td>\n",
        "      <td>  9747300</td>\n",
        "      <td> 543.99</td>\n",
        "    </tr>\n",
        "  </tbody>\n",
        "</table>\n",
        "</div>"
       ],
       "metadata": {},
       "output_type": "pyout",
       "prompt_number": 71,
       "text": [
        "              Open    High     Low   Close    Volume  Adj Close\n",
        "Date                                                           \n",
        "2014-02-03  502.61  507.73  499.30  501.53  14338000     498.55\n",
        "2014-02-04  505.85  509.46  502.76  508.79  13452900     505.76\n",
        "2014-02-05  506.56  515.28  506.25  512.59  11726600     509.54\n",
        "2014-02-06  510.06  513.50  507.81  512.51   9205900     512.51\n",
        "2014-02-07  521.38  522.93  517.38  519.68  13224300     519.68\n",
        "2014-02-10  518.66  531.99  518.00  528.99  12341400     528.99\n",
        "2014-02-11  530.61  537.75  529.50  535.96  10080600     535.96\n",
        "2014-02-12  536.95  539.56  533.24  535.92  11003600     535.92\n",
        "2014-02-13  534.66  544.85  534.20  544.43  10978500     544.43\n",
        "2014-02-14  542.47  545.98  541.21  543.99   9747300     543.99"
       ]
      }
     ],
     "prompt_number": 71
    },
    {
     "cell_type": "code",
     "collapsed": false,
     "input": [
      "New_SnP500_stock_data_from_web['AAPL'][:10]"
     ],
     "language": "python",
     "metadata": {},
     "outputs": [
      {
       "html": [
        "<div style=\"max-height:1000px;max-width:1500px;overflow:auto;\">\n",
        "<table border=\"1\" class=\"dataframe\">\n",
        "  <thead>\n",
        "    <tr style=\"text-align: right;\">\n",
        "      <th></th>\n",
        "      <th>Open</th>\n",
        "      <th>High</th>\n",
        "      <th>Low</th>\n",
        "      <th>Close</th>\n",
        "      <th>Volume</th>\n",
        "      <th>Adj Close</th>\n",
        "    </tr>\n",
        "    <tr>\n",
        "      <th>Date</th>\n",
        "      <th></th>\n",
        "      <th></th>\n",
        "      <th></th>\n",
        "      <th></th>\n",
        "      <th></th>\n",
        "      <th></th>\n",
        "    </tr>\n",
        "  </thead>\n",
        "  <tbody>\n",
        "    <tr>\n",
        "      <th>2014-02-18</th>\n",
        "      <td> 546.00</td>\n",
        "      <td> 551.19</td>\n",
        "      <td> 545.61</td>\n",
        "      <td> 545.99</td>\n",
        "      <td>  9294700</td>\n",
        "      <td> 545.99</td>\n",
        "    </tr>\n",
        "    <tr>\n",
        "      <th>2014-02-19</th>\n",
        "      <td> 544.75</td>\n",
        "      <td> 546.89</td>\n",
        "      <td> 534.35</td>\n",
        "      <td> 537.37</td>\n",
        "      <td> 11206000</td>\n",
        "      <td> 537.37</td>\n",
        "    </tr>\n",
        "    <tr>\n",
        "      <th>2014-02-20</th>\n",
        "      <td> 532.99</td>\n",
        "      <td> 537.00</td>\n",
        "      <td> 529.00</td>\n",
        "      <td> 531.15</td>\n",
        "      <td> 10923500</td>\n",
        "      <td> 531.15</td>\n",
        "    </tr>\n",
        "    <tr>\n",
        "      <th>2014-02-21</th>\n",
        "      <td> 532.79</td>\n",
        "      <td> 534.57</td>\n",
        "      <td> 524.60</td>\n",
        "      <td> 525.25</td>\n",
        "      <td>  9956600</td>\n",
        "      <td> 525.25</td>\n",
        "    </tr>\n",
        "  </tbody>\n",
        "</table>\n",
        "</div>"
       ],
       "metadata": {},
       "output_type": "pyout",
       "prompt_number": 6,
       "text": [
        "              Open    High     Low   Close    Volume  Adj Close\n",
        "Date                                                           \n",
        "2014-02-18  546.00  551.19  545.61  545.99   9294700     545.99\n",
        "2014-02-19  544.75  546.89  534.35  537.37  11206000     537.37\n",
        "2014-02-20  532.99  537.00  529.00  531.15  10923500     531.15\n",
        "2014-02-21  532.79  534.57  524.60  525.25   9956600     525.25"
       ]
      }
     ],
     "prompt_number": 6
    },
    {
     "cell_type": "code",
     "collapsed": false,
     "input": [
      "Updated_SnP500_stock_data = {}\n",
      "for ticker in list(SnP500_tbl['Ticker symbol']) + ['^GSPC']:\n",
      "    # Rembember to ensure no duplicates\n",
      "    Updated_SnP500_stock_data[ticker] = pd.concat([SnP500_stock_data[ticker], New_SnP500_stock_data_from_web[ticker]])\n",
      "    \n",
      "    # This is silly... outer join is not implemented\n",
      "    # Updated_SnP500_stock_data[ticker] = SnP500_stock_data[ticker].copy()\n",
      "    # Updated_SnP500_stock_data[ticker].update(New_SnP500_stock_data_from_web[ticker], join='outer')\n",
      "    \n",
      "    # Somehow this generates a mysterious exception...\n",
      "    # Updated_SnP500_stock_data[ticker] = New_SnP500_stock_data_from_web[ticker].combine_first(SnP500_stock_data[ticker])\n",
      "Updated_SnP500_stock_data['AAPL'][-10:]"
     ],
     "language": "python",
     "metadata": {},
     "outputs": [
      {
       "html": [
        "<div style=\"max-height:1000px;max-width:1500px;overflow:auto;\">\n",
        "<table border=\"1\" class=\"dataframe\">\n",
        "  <thead>\n",
        "    <tr style=\"text-align: right;\">\n",
        "      <th></th>\n",
        "      <th>Open</th>\n",
        "      <th>High</th>\n",
        "      <th>Low</th>\n",
        "      <th>Close</th>\n",
        "      <th>Volume</th>\n",
        "      <th>Adj Close</th>\n",
        "    </tr>\n",
        "    <tr>\n",
        "      <th>Date</th>\n",
        "      <th></th>\n",
        "      <th></th>\n",
        "      <th></th>\n",
        "      <th></th>\n",
        "      <th></th>\n",
        "      <th></th>\n",
        "    </tr>\n",
        "  </thead>\n",
        "  <tbody>\n",
        "    <tr>\n",
        "      <th>2014-02-07</th>\n",
        "      <td> 521.38</td>\n",
        "      <td> 522.93</td>\n",
        "      <td> 517.38</td>\n",
        "      <td> 519.68</td>\n",
        "      <td> 13224300</td>\n",
        "      <td> 519.68</td>\n",
        "    </tr>\n",
        "    <tr>\n",
        "      <th>2014-02-10</th>\n",
        "      <td> 518.66</td>\n",
        "      <td> 531.99</td>\n",
        "      <td> 518.00</td>\n",
        "      <td> 528.99</td>\n",
        "      <td> 12341400</td>\n",
        "      <td> 528.99</td>\n",
        "    </tr>\n",
        "    <tr>\n",
        "      <th>2014-02-11</th>\n",
        "      <td> 530.61</td>\n",
        "      <td> 537.75</td>\n",
        "      <td> 529.50</td>\n",
        "      <td> 535.96</td>\n",
        "      <td> 10080600</td>\n",
        "      <td> 535.96</td>\n",
        "    </tr>\n",
        "    <tr>\n",
        "      <th>2014-02-12</th>\n",
        "      <td> 536.95</td>\n",
        "      <td> 539.56</td>\n",
        "      <td> 533.24</td>\n",
        "      <td> 535.92</td>\n",
        "      <td> 11003600</td>\n",
        "      <td> 535.92</td>\n",
        "    </tr>\n",
        "    <tr>\n",
        "      <th>2014-02-13</th>\n",
        "      <td> 534.66</td>\n",
        "      <td> 544.85</td>\n",
        "      <td> 534.20</td>\n",
        "      <td> 544.43</td>\n",
        "      <td> 10978500</td>\n",
        "      <td> 544.43</td>\n",
        "    </tr>\n",
        "    <tr>\n",
        "      <th>2014-02-14</th>\n",
        "      <td> 542.47</td>\n",
        "      <td> 545.98</td>\n",
        "      <td> 541.21</td>\n",
        "      <td> 543.99</td>\n",
        "      <td>  9747300</td>\n",
        "      <td> 543.99</td>\n",
        "    </tr>\n",
        "    <tr>\n",
        "      <th>2014-02-18</th>\n",
        "      <td> 546.00</td>\n",
        "      <td> 551.19</td>\n",
        "      <td> 545.61</td>\n",
        "      <td> 545.99</td>\n",
        "      <td>  9294700</td>\n",
        "      <td> 545.99</td>\n",
        "    </tr>\n",
        "    <tr>\n",
        "      <th>2014-02-19</th>\n",
        "      <td> 544.75</td>\n",
        "      <td> 546.89</td>\n",
        "      <td> 534.35</td>\n",
        "      <td> 537.37</td>\n",
        "      <td> 11206000</td>\n",
        "      <td> 537.37</td>\n",
        "    </tr>\n",
        "    <tr>\n",
        "      <th>2014-02-20</th>\n",
        "      <td> 532.99</td>\n",
        "      <td> 537.00</td>\n",
        "      <td> 529.00</td>\n",
        "      <td> 531.15</td>\n",
        "      <td> 10923500</td>\n",
        "      <td> 531.15</td>\n",
        "    </tr>\n",
        "    <tr>\n",
        "      <th>2014-02-21</th>\n",
        "      <td> 532.79</td>\n",
        "      <td> 534.57</td>\n",
        "      <td> 524.60</td>\n",
        "      <td> 525.25</td>\n",
        "      <td>  9956600</td>\n",
        "      <td> 525.25</td>\n",
        "    </tr>\n",
        "  </tbody>\n",
        "</table>\n",
        "</div>"
       ],
       "metadata": {},
       "output_type": "pyout",
       "prompt_number": 73,
       "text": [
        "              Open    High     Low   Close    Volume  Adj Close\n",
        "Date                                                           \n",
        "2014-02-07  521.38  522.93  517.38  519.68  13224300     519.68\n",
        "2014-02-10  518.66  531.99  518.00  528.99  12341400     528.99\n",
        "2014-02-11  530.61  537.75  529.50  535.96  10080600     535.96\n",
        "2014-02-12  536.95  539.56  533.24  535.92  11003600     535.92\n",
        "2014-02-13  534.66  544.85  534.20  544.43  10978500     544.43\n",
        "2014-02-14  542.47  545.98  541.21  543.99   9747300     543.99\n",
        "2014-02-18  546.00  551.19  545.61  545.99   9294700     545.99\n",
        "2014-02-19  544.75  546.89  534.35  537.37  11206000     537.37\n",
        "2014-02-20  532.99  537.00  529.00  531.15  10923500     531.15\n",
        "2014-02-21  532.79  534.57  524.60  525.25   9956600     525.25"
       ]
      }
     ],
     "prompt_number": 73
    },
    {
     "cell_type": "code",
     "collapsed": false,
     "input": [
      "SnP500_Prices = DataFrame({tic: data['Adj Close']\n",
      "                           for tic, data in Updated_SnP500_stock_data.iteritems()})\n",
      "SnP500_Volume = DataFrame({tic: data['Volume']\n",
      "                           for tic, data in Updated_SnP500_stock_data.iteritems()})\n",
      "SnP500_Panel = pd.Panel(Updated_SnP500_stock_data)"
     ],
     "language": "python",
     "metadata": {},
     "outputs": [],
     "prompt_number": 74
    },
    {
     "cell_type": "code",
     "collapsed": false,
     "input": [
      "type(SnP500_Prices['AAPL'])"
     ],
     "language": "python",
     "metadata": {},
     "outputs": [
      {
       "metadata": {},
       "output_type": "pyout",
       "prompt_number": 9,
       "text": [
        "pandas.core.series.TimeSeries"
       ]
      }
     ],
     "prompt_number": 9
    },
    {
     "cell_type": "code",
     "collapsed": false,
     "input": [
      "SnP500_Panel.ix['AAPL',:,'Adj Close']"
     ],
     "language": "python",
     "metadata": {},
     "outputs": [
      {
       "metadata": {},
       "output_type": "pyout",
       "prompt_number": 10,
       "text": [
        "Date\n",
        "2000-01-03    26.90\n",
        "2000-01-04    24.63\n",
        "2000-01-05    24.99\n",
        "2000-01-06    22.83\n",
        "2000-01-07    23.91\n",
        "2000-01-10    23.49\n",
        "2000-01-11    22.29\n",
        "2000-01-12    20.95\n",
        "2000-01-13    23.25\n",
        "2000-01-14    24.13\n",
        "2000-01-18    24.98\n",
        "2000-01-19    25.61\n",
        "2000-01-20    27.27\n",
        "2000-01-21    26.75\n",
        "2000-01-24    25.53\n",
        "...\n",
        "2014-01-31    497.62\n",
        "2014-02-03    498.55\n",
        "2014-02-04    505.76\n",
        "2014-02-05    509.54\n",
        "2014-02-06    512.51\n",
        "2014-02-07    519.68\n",
        "2014-02-10    528.99\n",
        "2014-02-11    535.96\n",
        "2014-02-12    535.92\n",
        "2014-02-13    544.43\n",
        "2014-02-14    543.99\n",
        "2014-02-18    545.99\n",
        "2014-02-19    537.37\n",
        "2014-02-20    531.15\n",
        "2014-02-21    525.25\n",
        "Name: Adj Close, Length: 3556, dtype: float64"
       ]
      }
     ],
     "prompt_number": 10
    },
    {
     "cell_type": "code",
     "collapsed": false,
     "input": [
      "type(SnP500_Panel.ix['AAPL',:,'Adj Close'])"
     ],
     "language": "python",
     "metadata": {},
     "outputs": [
      {
       "metadata": {},
       "output_type": "pyout",
       "prompt_number": 11,
       "text": [
        "pandas.core.series.TimeSeries"
       ]
      }
     ],
     "prompt_number": 11
    },
    {
     "cell_type": "heading",
     "level": 1,
     "metadata": {},
     "source": [
      "Let's Begin... With Dates and Time"
     ]
    },
    {
     "cell_type": "heading",
     "level": 3,
     "metadata": {},
     "source": [
      "Dates and Time"
     ]
    },
    {
     "cell_type": "code",
     "collapsed": false,
     "input": [
      "datetime.datetime.now()"
     ],
     "language": "python",
     "metadata": {},
     "outputs": [
      {
       "metadata": {},
       "output_type": "pyout",
       "prompt_number": 12,
       "text": [
        "datetime.datetime(2014, 2, 22, 14, 37, 36, 761000)"
       ]
      }
     ],
     "prompt_number": 12
    },
    {
     "cell_type": "code",
     "collapsed": false,
     "input": [
      "datetime.datetime.today()"
     ],
     "language": "python",
     "metadata": {},
     "outputs": [
      {
       "metadata": {},
       "output_type": "pyout",
       "prompt_number": 13,
       "text": [
        "datetime.datetime(2014, 2, 22, 14, 37, 36, 768000)"
       ]
      }
     ],
     "prompt_number": 13
    },
    {
     "cell_type": "code",
     "collapsed": false,
     "input": [
      "datetime.date.today()"
     ],
     "language": "python",
     "metadata": {},
     "outputs": [
      {
       "metadata": {},
       "output_type": "pyout",
       "prompt_number": 14,
       "text": [
        "datetime.date(2014, 2, 22)"
       ]
      }
     ],
     "prompt_number": 14
    },
    {
     "cell_type": "code",
     "collapsed": false,
     "input": [
      "datetime.date.today() - datetime.date(2014,2,15)"
     ],
     "language": "python",
     "metadata": {},
     "outputs": [
      {
       "metadata": {},
       "output_type": "pyout",
       "prompt_number": 15,
       "text": [
        "datetime.timedelta(7)"
       ]
      }
     ],
     "prompt_number": 15
    },
    {
     "cell_type": "code",
     "collapsed": false,
     "input": [
      "# datetime.timedelta([days[, seconds[, microseconds[, milliseconds[, minutes[, hours[, weeks]]]]]]])\n",
      "one_day = datetime.timedelta(days=1)\n",
      "one_day"
     ],
     "language": "python",
     "metadata": {},
     "outputs": [
      {
       "metadata": {},
       "output_type": "pyout",
       "prompt_number": 16,
       "text": [
        "datetime.timedelta(1)"
       ]
      }
     ],
     "prompt_number": 16
    },
    {
     "cell_type": "code",
     "collapsed": false,
     "input": [
      "date_today"
     ],
     "language": "python",
     "metadata": {},
     "outputs": [
      {
       "metadata": {},
       "output_type": "pyout",
       "prompt_number": 17,
       "text": [
        "datetime.date(2014, 2, 22)"
       ]
      }
     ],
     "prompt_number": 17
    },
    {
     "cell_type": "code",
     "collapsed": false,
     "input": [
      "date_today + 2*one_day"
     ],
     "language": "python",
     "metadata": {},
     "outputs": [
      {
       "metadata": {},
       "output_type": "pyout",
       "prompt_number": 18,
       "text": [
        "datetime.date(2014, 2, 24)"
       ]
      }
     ],
     "prompt_number": 18
    },
    {
     "cell_type": "heading",
     "level": 3,
     "metadata": {},
     "source": [
      "Parsing"
     ]
    },
    {
     "cell_type": "code",
     "collapsed": false,
     "input": [
      "datetime.datetime.strptime('22/2/14 9:00', '%d/%m/%y %H:%M')"
     ],
     "language": "python",
     "metadata": {},
     "outputs": [
      {
       "metadata": {},
       "output_type": "pyout",
       "prompt_number": 19,
       "text": [
        "datetime.datetime(2014, 2, 22, 9, 0)"
       ]
      }
     ],
     "prompt_number": 19
    },
    {
     "cell_type": "markdown",
     "metadata": {},
     "source": [
      "More info at: http://docs.python.org/2/library/datetime.html#strftime-and-strptime-behavior"
     ]
    },
    {
     "cell_type": "heading",
     "level": 1,
     "metadata": {},
     "source": [
      "Time Series Proper"
     ]
    },
    {
     "cell_type": "heading",
     "level": 3,
     "metadata": {},
     "source": [
      "Indexing: You Know This Already"
     ]
    },
    {
     "cell_type": "code",
     "collapsed": false,
     "input": [
      "SnP500_Panel.ix['AAPL',:,:]"
     ],
     "language": "python",
     "metadata": {},
     "outputs": [
      {
       "html": [
        "<pre>\n",
        "&lt;class 'pandas.core.frame.DataFrame'&gt;\n",
        "DatetimeIndex: 3556 entries, 2000-01-03 00:00:00 to 2014-02-21 00:00:00\n",
        "Data columns (total 6 columns):\n",
        "Open         3556  non-null values\n",
        "High         3556  non-null values\n",
        "Low          3556  non-null values\n",
        "Close        3556  non-null values\n",
        "Volume       3556  non-null values\n",
        "Adj Close    3556  non-null values\n",
        "dtypes: float64(6)\n",
        "</pre>"
       ],
       "metadata": {},
       "output_type": "pyout",
       "prompt_number": 20,
       "text": [
        "<class 'pandas.core.frame.DataFrame'>\n",
        "DatetimeIndex: 3556 entries, 2000-01-03 00:00:00 to 2014-02-21 00:00:00\n",
        "Data columns (total 6 columns):\n",
        "Open         3556  non-null values\n",
        "High         3556  non-null values\n",
        "Low          3556  non-null values\n",
        "Close        3556  non-null values\n",
        "Volume       3556  non-null values\n",
        "Adj Close    3556  non-null values\n",
        "dtypes: float64(6)"
       ]
      }
     ],
     "prompt_number": 20
    },
    {
     "cell_type": "code",
     "collapsed": false,
     "input": [
      "SnP500_Prices.ix[datetime.datetime(2014,2,1):datetime.datetime(2014,2,14),'AAPL']"
     ],
     "language": "python",
     "metadata": {},
     "outputs": [
      {
       "metadata": {},
       "output_type": "pyout",
       "prompt_number": 21,
       "text": [
        "Date\n",
        "2014-02-03    498.55\n",
        "2014-02-04    505.76\n",
        "2014-02-05    509.54\n",
        "2014-02-06    512.51\n",
        "2014-02-07    519.68\n",
        "2014-02-10    528.99\n",
        "2014-02-11    535.96\n",
        "2014-02-12    535.92\n",
        "2014-02-13    544.43\n",
        "2014-02-14    543.99\n",
        "Name: AAPL, dtype: float64"
       ]
      }
     ],
     "prompt_number": 21
    },
    {
     "cell_type": "code",
     "collapsed": false,
     "input": [
      "SnP500_Prices.ix[datetime.datetime(2014,2,3),'AAPL']"
     ],
     "language": "python",
     "metadata": {},
     "outputs": [
      {
       "metadata": {},
       "output_type": "pyout",
       "prompt_number": 22,
       "text": [
        "498.55000000000001"
       ]
      }
     ],
     "prompt_number": 22
    },
    {
     "cell_type": "heading",
     "level": 3,
     "metadata": {},
     "source": [
      "Duplicate Entries"
     ]
    },
    {
     "cell_type": "code",
     "collapsed": false,
     "input": [
      "dates = [datetime.datetime(2014, 2, k) for k in range(1,10,2)]\n",
      "ts = pd.DataFrame({'A':np.arange(len(dates)),'B':np.arange(10,10+len(dates))}, index=dates)\n",
      "ts"
     ],
     "language": "python",
     "metadata": {},
     "outputs": [
      {
       "html": [
        "<div style=\"max-height:1000px;max-width:1500px;overflow:auto;\">\n",
        "<table border=\"1\" class=\"dataframe\">\n",
        "  <thead>\n",
        "    <tr style=\"text-align: right;\">\n",
        "      <th></th>\n",
        "      <th>A</th>\n",
        "      <th>B</th>\n",
        "    </tr>\n",
        "  </thead>\n",
        "  <tbody>\n",
        "    <tr>\n",
        "      <th>2014-02-01</th>\n",
        "      <td> 0</td>\n",
        "      <td> 10</td>\n",
        "    </tr>\n",
        "    <tr>\n",
        "      <th>2014-02-03</th>\n",
        "      <td> 1</td>\n",
        "      <td> 11</td>\n",
        "    </tr>\n",
        "    <tr>\n",
        "      <th>2014-02-05</th>\n",
        "      <td> 2</td>\n",
        "      <td> 12</td>\n",
        "    </tr>\n",
        "    <tr>\n",
        "      <th>2014-02-07</th>\n",
        "      <td> 3</td>\n",
        "      <td> 13</td>\n",
        "    </tr>\n",
        "    <tr>\n",
        "      <th>2014-02-09</th>\n",
        "      <td> 4</td>\n",
        "      <td> 14</td>\n",
        "    </tr>\n",
        "  </tbody>\n",
        "</table>\n",
        "</div>"
       ],
       "metadata": {},
       "output_type": "pyout",
       "prompt_number": 23,
       "text": [
        "            A   B\n",
        "2014-02-01  0  10\n",
        "2014-02-03  1  11\n",
        "2014-02-05  2  12\n",
        "2014-02-07  3  13\n",
        "2014-02-09  4  14"
       ]
      }
     ],
     "prompt_number": 23
    },
    {
     "cell_type": "code",
     "collapsed": false,
     "input": [
      "dates2 = dates+[datetime.datetime(2014, 2, k) for k in range(7,15,2)]\n",
      "tsWithDuplicates = pd.DataFrame({'A':np.arange(len(dates2)),'B':np.arange(10,10+len(dates2))}, index=dates2)\n",
      "tsWithDuplicates"
     ],
     "language": "python",
     "metadata": {},
     "outputs": [
      {
       "html": [
        "<div style=\"max-height:1000px;max-width:1500px;overflow:auto;\">\n",
        "<table border=\"1\" class=\"dataframe\">\n",
        "  <thead>\n",
        "    <tr style=\"text-align: right;\">\n",
        "      <th></th>\n",
        "      <th>A</th>\n",
        "      <th>B</th>\n",
        "    </tr>\n",
        "  </thead>\n",
        "  <tbody>\n",
        "    <tr>\n",
        "      <th>2014-02-01</th>\n",
        "      <td> 0</td>\n",
        "      <td> 10</td>\n",
        "    </tr>\n",
        "    <tr>\n",
        "      <th>2014-02-03</th>\n",
        "      <td> 1</td>\n",
        "      <td> 11</td>\n",
        "    </tr>\n",
        "    <tr>\n",
        "      <th>2014-02-05</th>\n",
        "      <td> 2</td>\n",
        "      <td> 12</td>\n",
        "    </tr>\n",
        "    <tr>\n",
        "      <th>2014-02-07</th>\n",
        "      <td> 3</td>\n",
        "      <td> 13</td>\n",
        "    </tr>\n",
        "    <tr>\n",
        "      <th>2014-02-09</th>\n",
        "      <td> 4</td>\n",
        "      <td> 14</td>\n",
        "    </tr>\n",
        "    <tr>\n",
        "      <th>2014-02-07</th>\n",
        "      <td> 5</td>\n",
        "      <td> 15</td>\n",
        "    </tr>\n",
        "    <tr>\n",
        "      <th>2014-02-09</th>\n",
        "      <td> 6</td>\n",
        "      <td> 16</td>\n",
        "    </tr>\n",
        "    <tr>\n",
        "      <th>2014-02-11</th>\n",
        "      <td> 7</td>\n",
        "      <td> 17</td>\n",
        "    </tr>\n",
        "    <tr>\n",
        "      <th>2014-02-13</th>\n",
        "      <td> 8</td>\n",
        "      <td> 18</td>\n",
        "    </tr>\n",
        "  </tbody>\n",
        "</table>\n",
        "</div>"
       ],
       "metadata": {},
       "output_type": "pyout",
       "prompt_number": 24,
       "text": [
        "            A   B\n",
        "2014-02-01  0  10\n",
        "2014-02-03  1  11\n",
        "2014-02-05  2  12\n",
        "2014-02-07  3  13\n",
        "2014-02-09  4  14\n",
        "2014-02-07  5  15\n",
        "2014-02-09  6  16\n",
        "2014-02-11  7  17\n",
        "2014-02-13  8  18"
       ]
      }
     ],
     "prompt_number": 24
    },
    {
     "cell_type": "code",
     "collapsed": false,
     "input": [
      "(ts.index.is_unique, tsWithDuplicates.index.is_unique)"
     ],
     "language": "python",
     "metadata": {},
     "outputs": [
      {
       "metadata": {},
       "output_type": "pyout",
       "prompt_number": 25,
       "text": [
        "(True, False)"
       ]
      }
     ],
     "prompt_number": 25
    },
    {
     "cell_type": "code",
     "collapsed": false,
     "input": [
      "ts.groupby(level=0).sum() # The same time series"
     ],
     "language": "python",
     "metadata": {},
     "outputs": [
      {
       "html": [
        "<div style=\"max-height:1000px;max-width:1500px;overflow:auto;\">\n",
        "<table border=\"1\" class=\"dataframe\">\n",
        "  <thead>\n",
        "    <tr style=\"text-align: right;\">\n",
        "      <th></th>\n",
        "      <th>A</th>\n",
        "      <th>B</th>\n",
        "    </tr>\n",
        "  </thead>\n",
        "  <tbody>\n",
        "    <tr>\n",
        "      <th>2014-02-01</th>\n",
        "      <td> 0</td>\n",
        "      <td> 10</td>\n",
        "    </tr>\n",
        "    <tr>\n",
        "      <th>2014-02-03</th>\n",
        "      <td> 1</td>\n",
        "      <td> 11</td>\n",
        "    </tr>\n",
        "    <tr>\n",
        "      <th>2014-02-05</th>\n",
        "      <td> 2</td>\n",
        "      <td> 12</td>\n",
        "    </tr>\n",
        "    <tr>\n",
        "      <th>2014-02-07</th>\n",
        "      <td> 3</td>\n",
        "      <td> 13</td>\n",
        "    </tr>\n",
        "    <tr>\n",
        "      <th>2014-02-09</th>\n",
        "      <td> 4</td>\n",
        "      <td> 14</td>\n",
        "    </tr>\n",
        "  </tbody>\n",
        "</table>\n",
        "</div>"
       ],
       "metadata": {},
       "output_type": "pyout",
       "prompt_number": 26,
       "text": [
        "            A   B\n",
        "2014-02-01  0  10\n",
        "2014-02-03  1  11\n",
        "2014-02-05  2  12\n",
        "2014-02-07  3  13\n",
        "2014-02-09  4  14"
       ]
      }
     ],
     "prompt_number": 26
    },
    {
     "cell_type": "code",
     "collapsed": false,
     "input": [
      "(type(ts.groupby(level=0).sum()), type(ts.groupby(level=0).sum()['A']), type(ts.groupby(level=0).sum()['B']))"
     ],
     "language": "python",
     "metadata": {},
     "outputs": [
      {
       "metadata": {},
       "output_type": "pyout",
       "prompt_number": 27,
       "text": [
        "(pandas.core.frame.DataFrame,\n",
        " pandas.core.series.TimeSeries,\n",
        " pandas.core.series.TimeSeries)"
       ]
      }
     ],
     "prompt_number": 27
    },
    {
     "cell_type": "code",
     "collapsed": false,
     "input": [
      "tsWithDuplicates.groupby(level=0).sum() # Also a time series!"
     ],
     "language": "python",
     "metadata": {},
     "outputs": [
      {
       "html": [
        "<div style=\"max-height:1000px;max-width:1500px;overflow:auto;\">\n",
        "<table border=\"1\" class=\"dataframe\">\n",
        "  <thead>\n",
        "    <tr style=\"text-align: right;\">\n",
        "      <th></th>\n",
        "      <th>A</th>\n",
        "      <th>B</th>\n",
        "    </tr>\n",
        "  </thead>\n",
        "  <tbody>\n",
        "    <tr>\n",
        "      <th>2014-02-01</th>\n",
        "      <td>  0</td>\n",
        "      <td> 10</td>\n",
        "    </tr>\n",
        "    <tr>\n",
        "      <th>2014-02-03</th>\n",
        "      <td>  1</td>\n",
        "      <td> 11</td>\n",
        "    </tr>\n",
        "    <tr>\n",
        "      <th>2014-02-05</th>\n",
        "      <td>  2</td>\n",
        "      <td> 12</td>\n",
        "    </tr>\n",
        "    <tr>\n",
        "      <th>2014-02-07</th>\n",
        "      <td>  8</td>\n",
        "      <td> 28</td>\n",
        "    </tr>\n",
        "    <tr>\n",
        "      <th>2014-02-09</th>\n",
        "      <td> 10</td>\n",
        "      <td> 30</td>\n",
        "    </tr>\n",
        "    <tr>\n",
        "      <th>2014-02-11</th>\n",
        "      <td>  7</td>\n",
        "      <td> 17</td>\n",
        "    </tr>\n",
        "    <tr>\n",
        "      <th>2014-02-13</th>\n",
        "      <td>  8</td>\n",
        "      <td> 18</td>\n",
        "    </tr>\n",
        "  </tbody>\n",
        "</table>\n",
        "</div>"
       ],
       "metadata": {},
       "output_type": "pyout",
       "prompt_number": 28,
       "text": [
        "             A   B\n",
        "2014-02-01   0  10\n",
        "2014-02-03   1  11\n",
        "2014-02-05   2  12\n",
        "2014-02-07   8  28\n",
        "2014-02-09  10  30\n",
        "2014-02-11   7  17\n",
        "2014-02-13   8  18"
       ]
      }
     ],
     "prompt_number": 28
    },
    {
     "cell_type": "code",
     "collapsed": false,
     "input": [
      "(type(tsWithDuplicates.groupby(level=0).sum()), type(tsWithDuplicates.groupby(level=0).sum()['A']), type(tsWithDuplicates.groupby(level=0).sum()['B']))"
     ],
     "language": "python",
     "metadata": {},
     "outputs": [
      {
       "metadata": {},
       "output_type": "pyout",
       "prompt_number": 29,
       "text": [
        "(pandas.core.frame.DataFrame,\n",
        " pandas.core.series.TimeSeries,\n",
        " pandas.core.series.TimeSeries)"
       ]
      }
     ],
     "prompt_number": 29
    },
    {
     "cell_type": "markdown",
     "metadata": {},
     "source": [
      "Naming the index and grouping by it will fail because the index is not part of the columns. So instead, you group by the level X index."
     ]
    },
    {
     "cell_type": "heading",
     "level": 3,
     "metadata": {},
     "source": [
      "Resampling (A Quick Look)"
     ]
    },
    {
     "cell_type": "code",
     "collapsed": false,
     "input": [
      "ts.resample(rule='D') # Resample daily"
     ],
     "language": "python",
     "metadata": {},
     "outputs": [
      {
       "html": [
        "<div style=\"max-height:1000px;max-width:1500px;overflow:auto;\">\n",
        "<table border=\"1\" class=\"dataframe\">\n",
        "  <thead>\n",
        "    <tr style=\"text-align: right;\">\n",
        "      <th></th>\n",
        "      <th>A</th>\n",
        "      <th>B</th>\n",
        "    </tr>\n",
        "  </thead>\n",
        "  <tbody>\n",
        "    <tr>\n",
        "      <th>2014-02-01</th>\n",
        "      <td>  0</td>\n",
        "      <td> 10</td>\n",
        "    </tr>\n",
        "    <tr>\n",
        "      <th>2014-02-02</th>\n",
        "      <td>NaN</td>\n",
        "      <td>NaN</td>\n",
        "    </tr>\n",
        "    <tr>\n",
        "      <th>2014-02-03</th>\n",
        "      <td>  1</td>\n",
        "      <td> 11</td>\n",
        "    </tr>\n",
        "    <tr>\n",
        "      <th>2014-02-04</th>\n",
        "      <td>NaN</td>\n",
        "      <td>NaN</td>\n",
        "    </tr>\n",
        "    <tr>\n",
        "      <th>2014-02-05</th>\n",
        "      <td>  2</td>\n",
        "      <td> 12</td>\n",
        "    </tr>\n",
        "    <tr>\n",
        "      <th>2014-02-06</th>\n",
        "      <td>NaN</td>\n",
        "      <td>NaN</td>\n",
        "    </tr>\n",
        "    <tr>\n",
        "      <th>2014-02-07</th>\n",
        "      <td>  3</td>\n",
        "      <td> 13</td>\n",
        "    </tr>\n",
        "    <tr>\n",
        "      <th>2014-02-08</th>\n",
        "      <td>NaN</td>\n",
        "      <td>NaN</td>\n",
        "    </tr>\n",
        "    <tr>\n",
        "      <th>2014-02-09</th>\n",
        "      <td>  4</td>\n",
        "      <td> 14</td>\n",
        "    </tr>\n",
        "  </tbody>\n",
        "</table>\n",
        "</div>"
       ],
       "metadata": {},
       "output_type": "pyout",
       "prompt_number": 30,
       "text": [
        "             A   B\n",
        "2014-02-01   0  10\n",
        "2014-02-02 NaN NaN\n",
        "2014-02-03   1  11\n",
        "2014-02-04 NaN NaN\n",
        "2014-02-05   2  12\n",
        "2014-02-06 NaN NaN\n",
        "2014-02-07   3  13\n",
        "2014-02-08 NaN NaN\n",
        "2014-02-09   4  14"
       ]
      }
     ],
     "prompt_number": 30
    },
    {
     "cell_type": "code",
     "collapsed": false,
     "input": [
      "ax = SnP500_Panel.ix['AAPL',datetime.datetime(2013,1,1):datetime.datetime(2013,12,31),'Adj Close'].plot()"
     ],
     "language": "python",
     "metadata": {},
     "outputs": [
      {
       "metadata": {},
       "output_type": "display_data",
       "png": "[encoded data removed]",
       "text": [
        "<matplotlib.figure.Figure at 0x18a3b110>"
       ]
      }
     ],
     "prompt_number": 31
    },
    {
     "cell_type": "code",
     "collapsed": false,
     "input": [
      "SnP500_Panel.ix['AAPL',datetime.datetime(2013,1,1):datetime.datetime(2013,12,31),'Adj Close'].resample('M', how='mean')"
     ],
     "language": "python",
     "metadata": {},
     "outputs": [
      {
       "metadata": {},
       "output_type": "pyout",
       "prompt_number": 32,
       "text": [
        "Date\n",
        "2013-01-31    482.733810\n",
        "2013-02-28    445.005263\n",
        "2013-03-31    430.945500\n",
        "2013-04-30    409.413636\n",
        "2013-05-31    437.527727\n",
        "2013-06-30    417.791000\n",
        "2013-07-31    421.344545\n",
        "2013-08-31    478.478182\n",
        "2013-09-30    474.556000\n",
        "2013-10-31    498.829565\n",
        "2013-11-30    521.042000\n",
        "2013-12-31    556.326667\n",
        "Freq: M, dtype: float64"
       ]
      }
     ],
     "prompt_number": 32
    },
    {
     "cell_type": "code",
     "collapsed": false,
     "input": [
      "AAPL_mean_prices_2013 = SnP500_Panel.ix['AAPL',datetime.datetime(2013,1,1):datetime.datetime(2013,12,31),'Adj Close'].resample('M', how='mean')\n",
      "for k in range(12):\n",
      "    ax.plot([datetime.date(2013,k+1,1), pd.date_range(start='1/1/2013', periods=12, freq='BM')[k]],\n",
      "            [AAPL_mean_prices_2013[k],AAPL_mean_prices_2013[k]],\n",
      "            color='k') # More on the date_range and 'BM' thing up next\n",
      "ax.set_xlim(['1/1/2013', '31/12/2013'])\n",
      "ax.figure"
     ],
     "language": "python",
     "metadata": {},
     "outputs": [
      {
       "metadata": {},
       "output_type": "pyout",
       "png": "[encoded data removed]",
       "prompt_number": 33,
       "text": [
        "<matplotlib.figure.Figure at 0x18a3b110>"
       ]
      }
     ],
     "prompt_number": 33
    },
    {
     "cell_type": "heading",
     "level": 3,
     "metadata": {},
     "source": [
      "Rule-based Date Ranges (More on that \"frequency\" argument)"
     ]
    },
    {
     "cell_type": "code",
     "collapsed": false,
     "input": [
      "pd.date_range('15/2/2012', '22/2/2013', freq='D')"
     ],
     "language": "python",
     "metadata": {},
     "outputs": [
      {
       "metadata": {},
       "output_type": "pyout",
       "prompt_number": 34,
       "text": [
        "<class 'pandas.tseries.index.DatetimeIndex'>\n",
        "[2012-02-15 00:00:00, ..., 2013-02-22 00:00:00]\n",
        "Length: 374, Freq: D, Timezone: None"
       ]
      }
     ],
     "prompt_number": 34
    },
    {
     "cell_type": "code",
     "collapsed": false,
     "input": [
      "pd.date_range(start='15/1/2012', periods=7)"
     ],
     "language": "python",
     "metadata": {},
     "outputs": [
      {
       "metadata": {},
       "output_type": "pyout",
       "prompt_number": 35,
       "text": [
        "<class 'pandas.tseries.index.DatetimeIndex'>\n",
        "[2012-01-15 00:00:00, ..., 2012-01-21 00:00:00]\n",
        "Length: 7, Freq: D, Timezone: None"
       ]
      }
     ],
     "prompt_number": 35
    },
    {
     "cell_type": "code",
     "collapsed": false,
     "input": [
      "pd.date_range(end='22/2/2014', periods=7, tz='Asia/Singapore')"
     ],
     "language": "python",
     "metadata": {},
     "outputs": [
      {
       "metadata": {},
       "output_type": "pyout",
       "prompt_number": 36,
       "text": [
        "<class 'pandas.tseries.index.DatetimeIndex'>\n",
        "[2014-02-16 00:00:00, ..., 2014-02-22 00:00:00]\n",
        "Length: 7, Freq: D, Timezone: Asia/Singapore"
       ]
      }
     ],
     "prompt_number": 36
    },
    {
     "cell_type": "markdown",
     "metadata": {},
     "source": [
      "For a list of time zones, see: https://gist.github.com/pamelafox/986163"
     ]
    },
    {
     "cell_type": "code",
     "collapsed": false,
     "input": [
      "# You'd realize what environment pandas was developed in with this:\n",
      "print \"Business end of month:\"\n",
      "for k in range(12):\n",
      "    print pd.date_range(start='1/1/2013', periods=12, freq='BM')[k] # BM: Business end of month\n",
      "print\n",
      "print \"1st Monday each month:\"\n",
      "for k in range(12):\n",
      "    print pd.date_range(start='1/1/2013', periods=12, freq='WOM-1MON')[k] # 1st Monday each month (No Saturday or Sunday, however.)"
     ],
     "language": "python",
     "metadata": {},
     "outputs": [
      {
       "output_type": "stream",
       "stream": "stdout",
       "text": [
        "Business end of month:\n",
        "2013-01-31 00:00:00\n",
        "2013-02-28 00:00:00\n",
        "2013-03-29 00:00:00\n",
        "2013-04-30 00:00:00\n",
        "2013-05-31 00:00:00\n",
        "2013-06-28 00:00:00\n",
        "2013-07-31 00:00:00\n",
        "2013-08-30 00:00:00\n",
        "2013-09-30 00:00:00\n",
        "2013-10-31 00:00:00\n",
        "2013-11-29 00:00:00\n",
        "2013-12-31 00:00:00\n",
        "\n",
        "1st Monday each month:\n",
        "2013-01-07 00:00:00\n",
        "2013-02-04 00:00:00\n",
        "2013-03-04 00:00:00\n",
        "2013-04-01 00:00:00\n",
        "2013-05-06 00:00:00\n",
        "2013-06-03 00:00:00\n",
        "2013-07-01 00:00:00\n",
        "2013-08-05 00:00:00\n",
        "2013-09-02 00:00:00\n",
        "2013-10-07 00:00:00\n",
        "2013-11-04 00:00:00\n",
        "2013-12-02 00:00:00\n"
       ]
      }
     ],
     "prompt_number": 37
    },
    {
     "cell_type": "markdown",
     "metadata": {},
     "source": [
      "Here's a reference for <a href=http://pandas.pydata.org/pandas-docs/stable/timeseries.html#offset-aliases>base frequencies</a>:\n",
      "\n",
      "<table border=\"1\">\n",
      "<thead valign=\"bottom\">\n",
      "<tr><th class=\"head\">Alias</th>\n",
      "<th class=\"head\">Description</th>\n",
      "</tr>\n",
      "</thead>\n",
      "<tbody valign=\"top\">\n",
      "<tr><td>B</td>\n",
      "<td>business day frequency</td>\n",
      "</tr>\n",
      "<tr><td>C</td>\n",
      "<td>custom business day frequency (experimental)</td>\n",
      "</tr>\n",
      "<tr><td>D</td>\n",
      "<td>calendar day frequency</td>\n",
      "</tr>\n",
      "<tr><td>W</td>\n",
      "<td>weekly frequency</td>\n",
      "</tr>\n",
      "<tr><td>M</td>\n",
      "<td>month end frequency</td>\n",
      "</tr>\n",
      "<tr><td>BM</td>\n",
      "<td>business month end frequency</td>\n",
      "</tr>\n",
      "<tr><td>MS</td>\n",
      "<td>month start frequency</td>\n",
      "</tr>\n",
      "<tr><td>BMS</td>\n",
      "<td>business month start frequency</td>\n",
      "</tr>\n",
      "<tr><td>Q</td>\n",
      "<td>quarter end frequency</td>\n",
      "</tr>\n",
      "<tr><td>BQ</td>\n",
      "<td>business quarter endfrequency</td>\n",
      "</tr>\n",
      "<tr><td>QS</td>\n",
      "<td>quarter start frequency</td>\n",
      "</tr>\n",
      "<tr><td>BQS</td>\n",
      "<td>business quarter start frequency</td>\n",
      "</tr>\n",
      "<tr><td>A</td>\n",
      "<td>year end frequency</td>\n",
      "</tr>\n",
      "<tr><td>BA</td>\n",
      "<td>business year end frequency</td>\n",
      "</tr>\n",
      "<tr><td>AS</td>\n",
      "<td>year start frequency</td>\n",
      "</tr>\n",
      "<tr><td>BAS</td>\n",
      "<td>business year start frequency</td>\n",
      "</tr>\n",
      "<tr><td>H</td>\n",
      "<td>hourly frequency</td>\n",
      "</tr>\n",
      "<tr><td>T</td>\n",
      "<td>minutely frequency</td>\n",
      "</tr>\n",
      "<tr><td>S</td>\n",
      "<td>secondly frequency</td>\n",
      "</tr>\n",
      "<tr><td>L</td>\n",
      "<td>milliseonds</td>\n",
      "</tr>\n",
      "<tr><td>U</td>\n",
      "<td>microseconds</td>\n",
      "</tr>\n",
      "</tbody>\n",
      "</table>\n",
      "</div>\n",
      "\n",
      "And here is one for <a href=http://pandas.pydata.org/pandas-docs/stable/timeseries.html#anchored-offsets>those with \"anchored offsets\"</a>:\n",
      "\n",
      "<table border=\"1\"> \n",
      "<thead valign=\"bottom\">\n",
      "<tr><th class=\"head\">Alias</th>\n",
      "<th class=\"head\">Description</th>\n",
      "</tr>\n",
      "</thead>\n",
      "<tbody valign=\"top\">\n",
      "<tr><td>W-SUN</td>\n",
      "<td>weekly frequency (sundays). Same as \u2018W\u2019</td>\n",
      "</tr>\n",
      "<tr><td>W-MON</td>\n",
      "<td>weekly frequency (mondays)</td>\n",
      "</tr>\n",
      "<tr><td>W-TUE</td>\n",
      "<td>weekly frequency (tuesdays)</td>\n",
      "</tr>\n",
      "<tr><td>W-WED</td>\n",
      "<td>weekly frequency (wednesdays)</td>\n",
      "</tr>\n",
      "<tr><td>W-THU</td>\n",
      "<td>weekly frequency (thursdays)</td>\n",
      "</tr>\n",
      "<tr><td>W-FRI</td>\n",
      "<td>weekly frequency (fridays)</td>\n",
      "</tr>\n",
      "<tr><td>W-SAT</td>\n",
      "<td>weekly frequency (saturdays)</td>\n",
      "</tr>\n",
      "<tr><td>(B)Q(S)-DEC</td>\n",
      "<td>quarterly frequency, year ends in December. Same as \u2018Q\u2019</td>\n",
      "</tr>\n",
      "<tr><td>(B)Q(S)-JAN</td>\n",
      "<td>quarterly frequency, year ends in January</td>\n",
      "</tr>\n",
      "<tr><td>(B)Q(S)-FEB</td>\n",
      "<td>quarterly frequency, year ends in February</td>\n",
      "</tr>\n",
      "<tr><td>(B)Q(S)-MAR</td>\n",
      "<td>quarterly frequency, year ends in March</td>\n",
      "</tr>\n",
      "<tr><td>(B)Q(S)-APR</td>\n",
      "<td>quarterly frequency, year ends in April</td>\n",
      "</tr>\n",
      "<tr><td>(B)Q(S)-MAY</td>\n",
      "<td>quarterly frequency, year ends in May</td>\n",
      "</tr>\n",
      "<tr><td>(B)Q(S)-JUN</td>\n",
      "<td>quarterly frequency, year ends in June</td>\n",
      "</tr>\n",
      "<tr><td>(B)Q(S)-JUL</td>\n",
      "<td>quarterly frequency, year ends in July</td>\n",
      "</tr>\n",
      "<tr><td>(B)Q(S)-AUG</td>\n",
      "<td>quarterly frequency, year ends in August</td>\n",
      "</tr>\n",
      "<tr><td>(B)Q(S)-SEP</td>\n",
      "<td>quarterly frequency, year ends in September</td>\n",
      "</tr>\n",
      "<tr><td>(B)Q(S)-OCT</td>\n",
      "<td>quarterly frequency, year ends in October</td>\n",
      "</tr>\n",
      "<tr><td>(B)Q(S)-NOV</td>\n",
      "<td>quarterly frequency, year ends in November</td>\n",
      "</tr>\n",
      "<tr><td>(B)A(S)-DEC</td>\n",
      "<td>annual frequency, anchored end of December. Same as \u2018A\u2019</td>\n",
      "</tr>\n",
      "<tr><td>(B)A(S)-JAN</td>\n",
      "<td>annual frequency, anchored end of January</td>\n",
      "</tr>\n",
      "<tr><td>(B)A(S)-FEB</td>\n",
      "<td>annual frequency, anchored end of February</td>\n",
      "</tr>\n",
      "<tr><td>(B)A(S)-MAR</td>\n",
      "<td>annual frequency, anchored end of March</td>\n",
      "</tr>\n",
      "<tr><td>(B)A(S)-APR</td>\n",
      "<td>annual frequency, anchored end of April</td>\n",
      "</tr>\n",
      "<tr><td>(B)A(S)-MAY</td>\n",
      "<td>annual frequency, anchored end of May</td>\n",
      "</tr>\n",
      "<tr><td>(B)A(S)-JUN</td>\n",
      "<td>annual frequency, anchored end of June</td>\n",
      "</tr>\n",
      "<tr><td>(B)A(S)-JUL</td>\n",
      "<td>annual frequency, anchored end of July</td>\n",
      "</tr>\n",
      "<tr><td>(B)A(S)-AUG</td>\n",
      "<td>annual frequency, anchored end of August</td>\n",
      "</tr>\n",
      "<tr><td>(B)A(S)-SEP</td>\n",
      "<td>annual frequency, anchored end of September</td>\n",
      "</tr>\n",
      "<tr><td>(B)A(S)-OCT</td>\n",
      "<td>annual frequency, anchored end of October</td>\n",
      "</tr>\n",
      "<tr><td>(B)A(S)-NOV</td>\n",
      "<td>annual frequency, anchored end of November</td>\n",
      "</tr>\n",
      "</tbody>\n",
      "</table>\n",
      "\n",
      "I notice WOM is not there, and it wasn't on the same page in the online documentation. I don't think it has been deprecated."
     ]
    },
    {
     "cell_type": "heading",
     "level": 3,
     "metadata": {},
     "source": [
      "Simple Shifting (This is Very Useful!)"
     ]
    },
    {
     "cell_type": "code",
     "collapsed": false,
     "input": [
      "ts"
     ],
     "language": "python",
     "metadata": {},
     "outputs": [
      {
       "html": [
        "<div style=\"max-height:1000px;max-width:1500px;overflow:auto;\">\n",
        "<table border=\"1\" class=\"dataframe\">\n",
        "  <thead>\n",
        "    <tr style=\"text-align: right;\">\n",
        "      <th></th>\n",
        "      <th>A</th>\n",
        "      <th>B</th>\n",
        "    </tr>\n",
        "  </thead>\n",
        "  <tbody>\n",
        "    <tr>\n",
        "      <th>2014-02-01</th>\n",
        "      <td> 0</td>\n",
        "      <td> 10</td>\n",
        "    </tr>\n",
        "    <tr>\n",
        "      <th>2014-02-03</th>\n",
        "      <td> 1</td>\n",
        "      <td> 11</td>\n",
        "    </tr>\n",
        "    <tr>\n",
        "      <th>2014-02-05</th>\n",
        "      <td> 2</td>\n",
        "      <td> 12</td>\n",
        "    </tr>\n",
        "    <tr>\n",
        "      <th>2014-02-07</th>\n",
        "      <td> 3</td>\n",
        "      <td> 13</td>\n",
        "    </tr>\n",
        "    <tr>\n",
        "      <th>2014-02-09</th>\n",
        "      <td> 4</td>\n",
        "      <td> 14</td>\n",
        "    </tr>\n",
        "  </tbody>\n",
        "</table>\n",
        "</div>"
       ],
       "metadata": {},
       "output_type": "pyout",
       "prompt_number": 38,
       "text": [
        "            A   B\n",
        "2014-02-01  0  10\n",
        "2014-02-03  1  11\n",
        "2014-02-05  2  12\n",
        "2014-02-07  3  13\n",
        "2014-02-09  4  14"
       ]
      }
     ],
     "prompt_number": 38
    },
    {
     "cell_type": "code",
     "collapsed": false,
     "input": [
      "ts.shift(1) # Forward a slot"
     ],
     "language": "python",
     "metadata": {},
     "outputs": [
      {
       "html": [
        "<div style=\"max-height:1000px;max-width:1500px;overflow:auto;\">\n",
        "<table border=\"1\" class=\"dataframe\">\n",
        "  <thead>\n",
        "    <tr style=\"text-align: right;\">\n",
        "      <th></th>\n",
        "      <th>A</th>\n",
        "      <th>B</th>\n",
        "    </tr>\n",
        "  </thead>\n",
        "  <tbody>\n",
        "    <tr>\n",
        "      <th>2014-02-01</th>\n",
        "      <td>NaN</td>\n",
        "      <td>NaN</td>\n",
        "    </tr>\n",
        "    <tr>\n",
        "      <th>2014-02-03</th>\n",
        "      <td>  0</td>\n",
        "      <td> 10</td>\n",
        "    </tr>\n",
        "    <tr>\n",
        "      <th>2014-02-05</th>\n",
        "      <td>  1</td>\n",
        "      <td> 11</td>\n",
        "    </tr>\n",
        "    <tr>\n",
        "      <th>2014-02-07</th>\n",
        "      <td>  2</td>\n",
        "      <td> 12</td>\n",
        "    </tr>\n",
        "    <tr>\n",
        "      <th>2014-02-09</th>\n",
        "      <td>  3</td>\n",
        "      <td> 13</td>\n",
        "    </tr>\n",
        "  </tbody>\n",
        "</table>\n",
        "</div>"
       ],
       "metadata": {},
       "output_type": "pyout",
       "prompt_number": 39,
       "text": [
        "             A   B\n",
        "2014-02-01 NaN NaN\n",
        "2014-02-03   0  10\n",
        "2014-02-05   1  11\n",
        "2014-02-07   2  12\n",
        "2014-02-09   3  13"
       ]
      }
     ],
     "prompt_number": 39
    },
    {
     "cell_type": "code",
     "collapsed": false,
     "input": [
      "ts.shift(1).bfill()"
     ],
     "language": "python",
     "metadata": {},
     "outputs": [
      {
       "html": [
        "<div style=\"max-height:1000px;max-width:1500px;overflow:auto;\">\n",
        "<table border=\"1\" class=\"dataframe\">\n",
        "  <thead>\n",
        "    <tr style=\"text-align: right;\">\n",
        "      <th></th>\n",
        "      <th>A</th>\n",
        "      <th>B</th>\n",
        "    </tr>\n",
        "  </thead>\n",
        "  <tbody>\n",
        "    <tr>\n",
        "      <th>2014-02-01</th>\n",
        "      <td> 0</td>\n",
        "      <td> 10</td>\n",
        "    </tr>\n",
        "    <tr>\n",
        "      <th>2014-02-03</th>\n",
        "      <td> 0</td>\n",
        "      <td> 10</td>\n",
        "    </tr>\n",
        "    <tr>\n",
        "      <th>2014-02-05</th>\n",
        "      <td> 1</td>\n",
        "      <td> 11</td>\n",
        "    </tr>\n",
        "    <tr>\n",
        "      <th>2014-02-07</th>\n",
        "      <td> 2</td>\n",
        "      <td> 12</td>\n",
        "    </tr>\n",
        "    <tr>\n",
        "      <th>2014-02-09</th>\n",
        "      <td> 3</td>\n",
        "      <td> 13</td>\n",
        "    </tr>\n",
        "  </tbody>\n",
        "</table>\n",
        "</div>"
       ],
       "metadata": {},
       "output_type": "pyout",
       "prompt_number": 40,
       "text": [
        "            A   B\n",
        "2014-02-01  0  10\n",
        "2014-02-03  0  10\n",
        "2014-02-05  1  11\n",
        "2014-02-07  2  12\n",
        "2014-02-09  3  13"
       ]
      }
     ],
     "prompt_number": 40
    },
    {
     "cell_type": "code",
     "collapsed": false,
     "input": [
      "ts['A diff'] = ts['A'] - ts.shift(1).bfill()['A']\n",
      "ts # Not the greatest of examples, but you get the idea"
     ],
     "language": "python",
     "metadata": {},
     "outputs": [
      {
       "html": [
        "<div style=\"max-height:1000px;max-width:1500px;overflow:auto;\">\n",
        "<table border=\"1\" class=\"dataframe\">\n",
        "  <thead>\n",
        "    <tr style=\"text-align: right;\">\n",
        "      <th></th>\n",
        "      <th>A</th>\n",
        "      <th>B</th>\n",
        "      <th>A diff</th>\n",
        "    </tr>\n",
        "  </thead>\n",
        "  <tbody>\n",
        "    <tr>\n",
        "      <th>2014-02-01</th>\n",
        "      <td> 0</td>\n",
        "      <td> 10</td>\n",
        "      <td> 0</td>\n",
        "    </tr>\n",
        "    <tr>\n",
        "      <th>2014-02-03</th>\n",
        "      <td> 1</td>\n",
        "      <td> 11</td>\n",
        "      <td> 1</td>\n",
        "    </tr>\n",
        "    <tr>\n",
        "      <th>2014-02-05</th>\n",
        "      <td> 2</td>\n",
        "      <td> 12</td>\n",
        "      <td> 1</td>\n",
        "    </tr>\n",
        "    <tr>\n",
        "      <th>2014-02-07</th>\n",
        "      <td> 3</td>\n",
        "      <td> 13</td>\n",
        "      <td> 1</td>\n",
        "    </tr>\n",
        "    <tr>\n",
        "      <th>2014-02-09</th>\n",
        "      <td> 4</td>\n",
        "      <td> 14</td>\n",
        "      <td> 1</td>\n",
        "    </tr>\n",
        "  </tbody>\n",
        "</table>\n",
        "</div>"
       ],
       "metadata": {},
       "output_type": "pyout",
       "prompt_number": 41,
       "text": [
        "            A   B  A diff\n",
        "2014-02-01  0  10       0\n",
        "2014-02-03  1  11       1\n",
        "2014-02-05  2  12       1\n",
        "2014-02-07  3  13       1\n",
        "2014-02-09  4  14       1"
       ]
      }
     ],
     "prompt_number": 41
    },
    {
     "cell_type": "code",
     "collapsed": false,
     "input": [
      "tsWithDuplicates.shift(1) # Works the same way when there are duplicates (But why would you do that?)"
     ],
     "language": "python",
     "metadata": {},
     "outputs": [
      {
       "html": [
        "<div style=\"max-height:1000px;max-width:1500px;overflow:auto;\">\n",
        "<table border=\"1\" class=\"dataframe\">\n",
        "  <thead>\n",
        "    <tr style=\"text-align: right;\">\n",
        "      <th></th>\n",
        "      <th>A</th>\n",
        "      <th>B</th>\n",
        "    </tr>\n",
        "  </thead>\n",
        "  <tbody>\n",
        "    <tr>\n",
        "      <th>2014-02-01</th>\n",
        "      <td>NaN</td>\n",
        "      <td>NaN</td>\n",
        "    </tr>\n",
        "    <tr>\n",
        "      <th>2014-02-03</th>\n",
        "      <td>  0</td>\n",
        "      <td> 10</td>\n",
        "    </tr>\n",
        "    <tr>\n",
        "      <th>2014-02-05</th>\n",
        "      <td>  1</td>\n",
        "      <td> 11</td>\n",
        "    </tr>\n",
        "    <tr>\n",
        "      <th>2014-02-07</th>\n",
        "      <td>  2</td>\n",
        "      <td> 12</td>\n",
        "    </tr>\n",
        "    <tr>\n",
        "      <th>2014-02-09</th>\n",
        "      <td>  3</td>\n",
        "      <td> 13</td>\n",
        "    </tr>\n",
        "    <tr>\n",
        "      <th>2014-02-07</th>\n",
        "      <td>  4</td>\n",
        "      <td> 14</td>\n",
        "    </tr>\n",
        "    <tr>\n",
        "      <th>2014-02-09</th>\n",
        "      <td>  5</td>\n",
        "      <td> 15</td>\n",
        "    </tr>\n",
        "    <tr>\n",
        "      <th>2014-02-11</th>\n",
        "      <td>  6</td>\n",
        "      <td> 16</td>\n",
        "    </tr>\n",
        "    <tr>\n",
        "      <th>2014-02-13</th>\n",
        "      <td>  7</td>\n",
        "      <td> 17</td>\n",
        "    </tr>\n",
        "  </tbody>\n",
        "</table>\n",
        "</div>"
       ],
       "metadata": {},
       "output_type": "pyout",
       "prompt_number": 42,
       "text": [
        "             A   B\n",
        "2014-02-01 NaN NaN\n",
        "2014-02-03   0  10\n",
        "2014-02-05   1  11\n",
        "2014-02-07   2  12\n",
        "2014-02-09   3  13\n",
        "2014-02-07   4  14\n",
        "2014-02-09   5  15\n",
        "2014-02-11   6  16\n",
        "2014-02-13   7  17"
       ]
      }
     ],
     "prompt_number": 42
    },
    {
     "cell_type": "heading",
     "level": 3,
     "metadata": {},
     "source": [
      "Time Shifting"
     ]
    },
    {
     "cell_type": "code",
     "collapsed": false,
     "input": [
      "ts"
     ],
     "language": "python",
     "metadata": {},
     "outputs": [
      {
       "html": [
        "<div style=\"max-height:1000px;max-width:1500px;overflow:auto;\">\n",
        "<table border=\"1\" class=\"dataframe\">\n",
        "  <thead>\n",
        "    <tr style=\"text-align: right;\">\n",
        "      <th></th>\n",
        "      <th>A</th>\n",
        "      <th>B</th>\n",
        "      <th>A diff</th>\n",
        "    </tr>\n",
        "  </thead>\n",
        "  <tbody>\n",
        "    <tr>\n",
        "      <th>2014-02-01</th>\n",
        "      <td> 0</td>\n",
        "      <td> 10</td>\n",
        "      <td> 0</td>\n",
        "    </tr>\n",
        "    <tr>\n",
        "      <th>2014-02-03</th>\n",
        "      <td> 1</td>\n",
        "      <td> 11</td>\n",
        "      <td> 1</td>\n",
        "    </tr>\n",
        "    <tr>\n",
        "      <th>2014-02-05</th>\n",
        "      <td> 2</td>\n",
        "      <td> 12</td>\n",
        "      <td> 1</td>\n",
        "    </tr>\n",
        "    <tr>\n",
        "      <th>2014-02-07</th>\n",
        "      <td> 3</td>\n",
        "      <td> 13</td>\n",
        "      <td> 1</td>\n",
        "    </tr>\n",
        "    <tr>\n",
        "      <th>2014-02-09</th>\n",
        "      <td> 4</td>\n",
        "      <td> 14</td>\n",
        "      <td> 1</td>\n",
        "    </tr>\n",
        "  </tbody>\n",
        "</table>\n",
        "</div>"
       ],
       "metadata": {},
       "output_type": "pyout",
       "prompt_number": 43,
       "text": [
        "            A   B  A diff\n",
        "2014-02-01  0  10       0\n",
        "2014-02-03  1  11       1\n",
        "2014-02-05  2  12       1\n",
        "2014-02-07  3  13       1\n",
        "2014-02-09  4  14       1"
       ]
      }
     ],
     "prompt_number": 43
    },
    {
     "cell_type": "code",
     "collapsed": false,
     "input": [
      "ts.shift(1, freq='D') # Note the index"
     ],
     "language": "python",
     "metadata": {},
     "outputs": [
      {
       "html": [
        "<div style=\"max-height:1000px;max-width:1500px;overflow:auto;\">\n",
        "<table border=\"1\" class=\"dataframe\">\n",
        "  <thead>\n",
        "    <tr style=\"text-align: right;\">\n",
        "      <th></th>\n",
        "      <th>A</th>\n",
        "      <th>B</th>\n",
        "      <th>A diff</th>\n",
        "    </tr>\n",
        "  </thead>\n",
        "  <tbody>\n",
        "    <tr>\n",
        "      <th>2014-02-02</th>\n",
        "      <td> 0</td>\n",
        "      <td> 10</td>\n",
        "      <td> 0</td>\n",
        "    </tr>\n",
        "    <tr>\n",
        "      <th>2014-02-04</th>\n",
        "      <td> 1</td>\n",
        "      <td> 11</td>\n",
        "      <td> 1</td>\n",
        "    </tr>\n",
        "    <tr>\n",
        "      <th>2014-02-06</th>\n",
        "      <td> 2</td>\n",
        "      <td> 12</td>\n",
        "      <td> 1</td>\n",
        "    </tr>\n",
        "    <tr>\n",
        "      <th>2014-02-08</th>\n",
        "      <td> 3</td>\n",
        "      <td> 13</td>\n",
        "      <td> 1</td>\n",
        "    </tr>\n",
        "    <tr>\n",
        "      <th>2014-02-10</th>\n",
        "      <td> 4</td>\n",
        "      <td> 14</td>\n",
        "      <td> 1</td>\n",
        "    </tr>\n",
        "  </tbody>\n",
        "</table>\n",
        "</div>"
       ],
       "metadata": {},
       "output_type": "pyout",
       "prompt_number": 44,
       "text": [
        "            A   B  A diff\n",
        "2014-02-02  0  10       0\n",
        "2014-02-04  1  11       1\n",
        "2014-02-06  2  12       1\n",
        "2014-02-08  3  13       1\n",
        "2014-02-10  4  14       1"
       ]
      }
     ],
     "prompt_number": 44
    },
    {
     "cell_type": "heading",
     "level": 3,
     "metadata": {},
     "source": [
      "Timezone Localization and Conversion"
     ]
    },
    {
     "cell_type": "code",
     "collapsed": false,
     "input": [
      "ts_EST = ts.tz_localize('US/Eastern')\n",
      "ts_EST"
     ],
     "language": "python",
     "metadata": {},
     "outputs": [
      {
       "html": [
        "<div style=\"max-height:1000px;max-width:1500px;overflow:auto;\">\n",
        "<table border=\"1\" class=\"dataframe\">\n",
        "  <thead>\n",
        "    <tr style=\"text-align: right;\">\n",
        "      <th></th>\n",
        "      <th>A</th>\n",
        "      <th>B</th>\n",
        "      <th>A diff</th>\n",
        "    </tr>\n",
        "  </thead>\n",
        "  <tbody>\n",
        "    <tr>\n",
        "      <th>2014-02-01 00:00:00-05:00</th>\n",
        "      <td> 0</td>\n",
        "      <td> 10</td>\n",
        "      <td> 0</td>\n",
        "    </tr>\n",
        "    <tr>\n",
        "      <th>2014-02-03 00:00:00-05:00</th>\n",
        "      <td> 1</td>\n",
        "      <td> 11</td>\n",
        "      <td> 1</td>\n",
        "    </tr>\n",
        "    <tr>\n",
        "      <th>2014-02-05 00:00:00-05:00</th>\n",
        "      <td> 2</td>\n",
        "      <td> 12</td>\n",
        "      <td> 1</td>\n",
        "    </tr>\n",
        "    <tr>\n",
        "      <th>2014-02-07 00:00:00-05:00</th>\n",
        "      <td> 3</td>\n",
        "      <td> 13</td>\n",
        "      <td> 1</td>\n",
        "    </tr>\n",
        "    <tr>\n",
        "      <th>2014-02-09 00:00:00-05:00</th>\n",
        "      <td> 4</td>\n",
        "      <td> 14</td>\n",
        "      <td> 1</td>\n",
        "    </tr>\n",
        "  </tbody>\n",
        "</table>\n",
        "</div>"
       ],
       "metadata": {},
       "output_type": "pyout",
       "prompt_number": 45,
       "text": [
        "                           A   B  A diff\n",
        "2014-02-01 00:00:00-05:00  0  10       0\n",
        "2014-02-03 00:00:00-05:00  1  11       1\n",
        "2014-02-05 00:00:00-05:00  2  12       1\n",
        "2014-02-07 00:00:00-05:00  3  13       1\n",
        "2014-02-09 00:00:00-05:00  4  14       1"
       ]
      }
     ],
     "prompt_number": 45
    },
    {
     "cell_type": "code",
     "collapsed": false,
     "input": [
      "ts_EST.index"
     ],
     "language": "python",
     "metadata": {},
     "outputs": [
      {
       "metadata": {},
       "output_type": "pyout",
       "prompt_number": 46,
       "text": [
        "<class 'pandas.tseries.index.DatetimeIndex'>\n",
        "[2014-02-01 00:00:00, ..., 2014-02-09 00:00:00]\n",
        "Length: 5, Freq: None, Timezone: US/Eastern"
       ]
      }
     ],
     "prompt_number": 46
    },
    {
     "cell_type": "code",
     "collapsed": false,
     "input": [
      "#Once a time series has been localized to a particular time zone, it can be converted to another time zone using tz_convert:\n",
      "ts_SG = ts_EST.tz_convert('Asia/Singapore')\n",
      "ts_SG"
     ],
     "language": "python",
     "metadata": {},
     "outputs": [
      {
       "html": [
        "<div style=\"max-height:1000px;max-width:1500px;overflow:auto;\">\n",
        "<table border=\"1\" class=\"dataframe\">\n",
        "  <thead>\n",
        "    <tr style=\"text-align: right;\">\n",
        "      <th></th>\n",
        "      <th>A</th>\n",
        "      <th>B</th>\n",
        "      <th>A diff</th>\n",
        "    </tr>\n",
        "  </thead>\n",
        "  <tbody>\n",
        "    <tr>\n",
        "      <th>2014-02-01 13:00:00+08:00</th>\n",
        "      <td> 0</td>\n",
        "      <td> 10</td>\n",
        "      <td> 0</td>\n",
        "    </tr>\n",
        "    <tr>\n",
        "      <th>2014-02-03 13:00:00+08:00</th>\n",
        "      <td> 1</td>\n",
        "      <td> 11</td>\n",
        "      <td> 1</td>\n",
        "    </tr>\n",
        "    <tr>\n",
        "      <th>2014-02-05 13:00:00+08:00</th>\n",
        "      <td> 2</td>\n",
        "      <td> 12</td>\n",
        "      <td> 1</td>\n",
        "    </tr>\n",
        "    <tr>\n",
        "      <th>2014-02-07 13:00:00+08:00</th>\n",
        "      <td> 3</td>\n",
        "      <td> 13</td>\n",
        "      <td> 1</td>\n",
        "    </tr>\n",
        "    <tr>\n",
        "      <th>2014-02-09 13:00:00+08:00</th>\n",
        "      <td> 4</td>\n",
        "      <td> 14</td>\n",
        "      <td> 1</td>\n",
        "    </tr>\n",
        "  </tbody>\n",
        "</table>\n",
        "</div>"
       ],
       "metadata": {},
       "output_type": "pyout",
       "prompt_number": 47,
       "text": [
        "                           A   B  A diff\n",
        "2014-02-01 13:00:00+08:00  0  10       0\n",
        "2014-02-03 13:00:00+08:00  1  11       1\n",
        "2014-02-05 13:00:00+08:00  2  12       1\n",
        "2014-02-07 13:00:00+08:00  3  13       1\n",
        "2014-02-09 13:00:00+08:00  4  14       1"
       ]
      }
     ],
     "prompt_number": 47
    },
    {
     "cell_type": "heading",
     "level": 3,
     "metadata": {},
     "source": [
      "More Resampling"
     ]
    },
    {
     "cell_type": "code",
     "collapsed": false,
     "input": [
      "ts3 = pd.DataFrame(np.random.rand(100,3), columns = ['A', 'B', 'C'], index=pd.date_range('1/1/2013', periods=100, freq='3D'))\n",
      "ts3.tail()"
     ],
     "language": "python",
     "metadata": {},
     "outputs": [
      {
       "html": [
        "<div style=\"max-height:1000px;max-width:1500px;overflow:auto;\">\n",
        "<table border=\"1\" class=\"dataframe\">\n",
        "  <thead>\n",
        "    <tr style=\"text-align: right;\">\n",
        "      <th></th>\n",
        "      <th>A</th>\n",
        "      <th>B</th>\n",
        "      <th>C</th>\n",
        "    </tr>\n",
        "  </thead>\n",
        "  <tbody>\n",
        "    <tr>\n",
        "      <th>2013-10-13</th>\n",
        "      <td> 0.243714</td>\n",
        "      <td> 0.035620</td>\n",
        "      <td> 0.435388</td>\n",
        "    </tr>\n",
        "    <tr>\n",
        "      <th>2013-10-16</th>\n",
        "      <td> 0.530436</td>\n",
        "      <td> 0.682829</td>\n",
        "      <td> 0.468487</td>\n",
        "    </tr>\n",
        "    <tr>\n",
        "      <th>2013-10-19</th>\n",
        "      <td> 0.393602</td>\n",
        "      <td> 0.823647</td>\n",
        "      <td> 0.520026</td>\n",
        "    </tr>\n",
        "    <tr>\n",
        "      <th>2013-10-22</th>\n",
        "      <td> 0.865283</td>\n",
        "      <td> 0.097250</td>\n",
        "      <td> 0.624962</td>\n",
        "    </tr>\n",
        "    <tr>\n",
        "      <th>2013-10-25</th>\n",
        "      <td> 0.392094</td>\n",
        "      <td> 0.043274</td>\n",
        "      <td> 0.121129</td>\n",
        "    </tr>\n",
        "  </tbody>\n",
        "</table>\n",
        "</div>"
       ],
       "metadata": {},
       "output_type": "pyout",
       "prompt_number": 48,
       "text": [
        "                   A         B         C\n",
        "2013-10-13  0.243714  0.035620  0.435388\n",
        "2013-10-16  0.530436  0.682829  0.468487\n",
        "2013-10-19  0.393602  0.823647  0.520026\n",
        "2013-10-22  0.865283  0.097250  0.624962\n",
        "2013-10-25  0.392094  0.043274  0.121129"
       ]
      }
     ],
     "prompt_number": 48
    },
    {
     "cell_type": "code",
     "collapsed": false,
     "input": [
      "ts3.resample('M', how='mean')"
     ],
     "language": "python",
     "metadata": {},
     "outputs": [
      {
       "html": [
        "<div style=\"max-height:1000px;max-width:1500px;overflow:auto;\">\n",
        "<table border=\"1\" class=\"dataframe\">\n",
        "  <thead>\n",
        "    <tr style=\"text-align: right;\">\n",
        "      <th></th>\n",
        "      <th>A</th>\n",
        "      <th>B</th>\n",
        "      <th>C</th>\n",
        "    </tr>\n",
        "  </thead>\n",
        "  <tbody>\n",
        "    <tr>\n",
        "      <th>2013-01-31</th>\n",
        "      <td> 0.557613</td>\n",
        "      <td> 0.512818</td>\n",
        "      <td> 0.451684</td>\n",
        "    </tr>\n",
        "    <tr>\n",
        "      <th>2013-02-28</th>\n",
        "      <td> 0.618039</td>\n",
        "      <td> 0.551681</td>\n",
        "      <td> 0.394509</td>\n",
        "    </tr>\n",
        "    <tr>\n",
        "      <th>2013-03-31</th>\n",
        "      <td> 0.484324</td>\n",
        "      <td> 0.518380</td>\n",
        "      <td> 0.653036</td>\n",
        "    </tr>\n",
        "    <tr>\n",
        "      <th>2013-04-30</th>\n",
        "      <td> 0.448557</td>\n",
        "      <td> 0.491792</td>\n",
        "      <td> 0.608685</td>\n",
        "    </tr>\n",
        "    <tr>\n",
        "      <th>2013-05-31</th>\n",
        "      <td> 0.646312</td>\n",
        "      <td> 0.456262</td>\n",
        "      <td> 0.433518</td>\n",
        "    </tr>\n",
        "    <tr>\n",
        "      <th>2013-06-30</th>\n",
        "      <td> 0.332497</td>\n",
        "      <td> 0.397555</td>\n",
        "      <td> 0.602137</td>\n",
        "    </tr>\n",
        "    <tr>\n",
        "      <th>2013-07-31</th>\n",
        "      <td> 0.536190</td>\n",
        "      <td> 0.463767</td>\n",
        "      <td> 0.357548</td>\n",
        "    </tr>\n",
        "    <tr>\n",
        "      <th>2013-08-31</th>\n",
        "      <td> 0.567003</td>\n",
        "      <td> 0.486926</td>\n",
        "      <td> 0.488087</td>\n",
        "    </tr>\n",
        "    <tr>\n",
        "      <th>2013-09-30</th>\n",
        "      <td> 0.464111</td>\n",
        "      <td> 0.482367</td>\n",
        "      <td> 0.413950</td>\n",
        "    </tr>\n",
        "    <tr>\n",
        "      <th>2013-10-31</th>\n",
        "      <td> 0.542624</td>\n",
        "      <td> 0.465717</td>\n",
        "      <td> 0.533276</td>\n",
        "    </tr>\n",
        "  </tbody>\n",
        "</table>\n",
        "</div>"
       ],
       "metadata": {},
       "output_type": "pyout",
       "prompt_number": 49,
       "text": [
        "                   A         B         C\n",
        "2013-01-31  0.557613  0.512818  0.451684\n",
        "2013-02-28  0.618039  0.551681  0.394509\n",
        "2013-03-31  0.484324  0.518380  0.653036\n",
        "2013-04-30  0.448557  0.491792  0.608685\n",
        "2013-05-31  0.646312  0.456262  0.433518\n",
        "2013-06-30  0.332497  0.397555  0.602137\n",
        "2013-07-31  0.536190  0.463767  0.357548\n",
        "2013-08-31  0.567003  0.486926  0.488087\n",
        "2013-09-30  0.464111  0.482367  0.413950\n",
        "2013-10-31  0.542624  0.465717  0.533276"
       ]
      }
     ],
     "prompt_number": 49
    },
    {
     "cell_type": "code",
     "collapsed": false,
     "input": [
      "ts3['A'].resample('M', how='ohlc') # This one requires a Series"
     ],
     "language": "python",
     "metadata": {},
     "outputs": [
      {
       "html": [
        "<div style=\"max-height:1000px;max-width:1500px;overflow:auto;\">\n",
        "<table border=\"1\" class=\"dataframe\">\n",
        "  <thead>\n",
        "    <tr style=\"text-align: right;\">\n",
        "      <th></th>\n",
        "      <th>open</th>\n",
        "      <th>high</th>\n",
        "      <th>low</th>\n",
        "      <th>close</th>\n",
        "    </tr>\n",
        "  </thead>\n",
        "  <tbody>\n",
        "    <tr>\n",
        "      <th>2013-01-31</th>\n",
        "      <td> 0.819189</td>\n",
        "      <td> 0.929600</td>\n",
        "      <td> 0.154133</td>\n",
        "      <td> 0.764131</td>\n",
        "    </tr>\n",
        "    <tr>\n",
        "      <th>2013-02-28</th>\n",
        "      <td> 0.563339</td>\n",
        "      <td> 0.945338</td>\n",
        "      <td> 0.326658</td>\n",
        "      <td> 0.648214</td>\n",
        "    </tr>\n",
        "    <tr>\n",
        "      <th>2013-03-31</th>\n",
        "      <td> 0.217713</td>\n",
        "      <td> 0.995410</td>\n",
        "      <td> 0.104245</td>\n",
        "      <td> 0.381024</td>\n",
        "    </tr>\n",
        "    <tr>\n",
        "      <th>2013-04-30</th>\n",
        "      <td> 0.568046</td>\n",
        "      <td> 0.871120</td>\n",
        "      <td> 0.000422</td>\n",
        "      <td> 0.072511</td>\n",
        "    </tr>\n",
        "    <tr>\n",
        "      <th>2013-05-31</th>\n",
        "      <td> 0.381673</td>\n",
        "      <td> 0.970053</td>\n",
        "      <td> 0.200888</td>\n",
        "      <td> 0.200888</td>\n",
        "    </tr>\n",
        "    <tr>\n",
        "      <th>2013-06-30</th>\n",
        "      <td> 0.304457</td>\n",
        "      <td> 0.962560</td>\n",
        "      <td> 0.038075</td>\n",
        "      <td> 0.962560</td>\n",
        "    </tr>\n",
        "    <tr>\n",
        "      <th>2013-07-31</th>\n",
        "      <td> 0.105438</td>\n",
        "      <td> 0.994196</td>\n",
        "      <td> 0.042544</td>\n",
        "      <td> 0.920501</td>\n",
        "    </tr>\n",
        "    <tr>\n",
        "      <th>2013-08-31</th>\n",
        "      <td> 0.319861</td>\n",
        "      <td> 0.894040</td>\n",
        "      <td> 0.206534</td>\n",
        "      <td> 0.825100</td>\n",
        "    </tr>\n",
        "    <tr>\n",
        "      <th>2013-09-30</th>\n",
        "      <td> 0.301079</td>\n",
        "      <td> 0.950915</td>\n",
        "      <td> 0.003850</td>\n",
        "      <td> 0.627252</td>\n",
        "    </tr>\n",
        "    <tr>\n",
        "      <th>2013-10-31</th>\n",
        "      <td> 0.070125</td>\n",
        "      <td> 0.883018</td>\n",
        "      <td> 0.070125</td>\n",
        "      <td> 0.392094</td>\n",
        "    </tr>\n",
        "  </tbody>\n",
        "</table>\n",
        "</div>"
       ],
       "metadata": {},
       "output_type": "pyout",
       "prompt_number": 50,
       "text": [
        "                open      high       low     close\n",
        "2013-01-31  0.819189  0.929600  0.154133  0.764131\n",
        "2013-02-28  0.563339  0.945338  0.326658  0.648214\n",
        "2013-03-31  0.217713  0.995410  0.104245  0.381024\n",
        "2013-04-30  0.568046  0.871120  0.000422  0.072511\n",
        "2013-05-31  0.381673  0.970053  0.200888  0.200888\n",
        "2013-06-30  0.304457  0.962560  0.038075  0.962560\n",
        "2013-07-31  0.105438  0.994196  0.042544  0.920501\n",
        "2013-08-31  0.319861  0.894040  0.206534  0.825100\n",
        "2013-09-30  0.301079  0.950915  0.003850  0.627252\n",
        "2013-10-31  0.070125  0.883018  0.070125  0.392094"
       ]
      }
     ],
     "prompt_number": 50
    },
    {
     "cell_type": "code",
     "collapsed": false,
     "input": [
      "ts3.resample('M', how=lambda x: len(x)) # Custom aggregation methods possible"
     ],
     "language": "python",
     "metadata": {},
     "outputs": [
      {
       "html": [
        "<div style=\"max-height:1000px;max-width:1500px;overflow:auto;\">\n",
        "<table border=\"1\" class=\"dataframe\">\n",
        "  <thead>\n",
        "    <tr style=\"text-align: right;\">\n",
        "      <th></th>\n",
        "      <th>A</th>\n",
        "      <th>B</th>\n",
        "      <th>C</th>\n",
        "    </tr>\n",
        "  </thead>\n",
        "  <tbody>\n",
        "    <tr>\n",
        "      <th>2013-01-31</th>\n",
        "      <td> 11</td>\n",
        "      <td> 11</td>\n",
        "      <td> 11</td>\n",
        "    </tr>\n",
        "    <tr>\n",
        "      <th>2013-02-28</th>\n",
        "      <td>  9</td>\n",
        "      <td>  9</td>\n",
        "      <td>  9</td>\n",
        "    </tr>\n",
        "    <tr>\n",
        "      <th>2013-03-31</th>\n",
        "      <td> 10</td>\n",
        "      <td> 10</td>\n",
        "      <td> 10</td>\n",
        "    </tr>\n",
        "    <tr>\n",
        "      <th>2013-04-30</th>\n",
        "      <td> 10</td>\n",
        "      <td> 10</td>\n",
        "      <td> 10</td>\n",
        "    </tr>\n",
        "    <tr>\n",
        "      <th>2013-05-31</th>\n",
        "      <td> 11</td>\n",
        "      <td> 11</td>\n",
        "      <td> 11</td>\n",
        "    </tr>\n",
        "    <tr>\n",
        "      <th>2013-06-30</th>\n",
        "      <td> 10</td>\n",
        "      <td> 10</td>\n",
        "      <td> 10</td>\n",
        "    </tr>\n",
        "    <tr>\n",
        "      <th>2013-07-31</th>\n",
        "      <td> 10</td>\n",
        "      <td> 10</td>\n",
        "      <td> 10</td>\n",
        "    </tr>\n",
        "    <tr>\n",
        "      <th>2013-08-31</th>\n",
        "      <td> 10</td>\n",
        "      <td> 10</td>\n",
        "      <td> 10</td>\n",
        "    </tr>\n",
        "    <tr>\n",
        "      <th>2013-09-30</th>\n",
        "      <td> 10</td>\n",
        "      <td> 10</td>\n",
        "      <td> 10</td>\n",
        "    </tr>\n",
        "    <tr>\n",
        "      <th>2013-10-31</th>\n",
        "      <td>  9</td>\n",
        "      <td>  9</td>\n",
        "      <td>  9</td>\n",
        "    </tr>\n",
        "  </tbody>\n",
        "</table>\n",
        "</div>"
       ],
       "metadata": {},
       "output_type": "pyout",
       "prompt_number": 51,
       "text": [
        "             A   B   C\n",
        "2013-01-31  11  11  11\n",
        "2013-02-28   9   9   9\n",
        "2013-03-31  10  10  10\n",
        "2013-04-30  10  10  10\n",
        "2013-05-31  11  11  11\n",
        "2013-06-30  10  10  10\n",
        "2013-07-31  10  10  10\n",
        "2013-08-31  10  10  10\n",
        "2013-09-30  10  10  10\n",
        "2013-10-31   9   9   9"
       ]
      }
     ],
     "prompt_number": 51
    },
    {
     "cell_type": "code",
     "collapsed": false,
     "input": [
      "def crappyCustomAggregator(dt): return datetime.datetime(dt.year, dt.month, 15)\n",
      "ts3.groupby(crappyCustomAggregator).agg('mean') # Flexible downsampling with GroupBy"
     ],
     "language": "python",
     "metadata": {},
     "outputs": [
      {
       "html": [
        "<div style=\"max-height:1000px;max-width:1500px;overflow:auto;\">\n",
        "<table border=\"1\" class=\"dataframe\">\n",
        "  <thead>\n",
        "    <tr style=\"text-align: right;\">\n",
        "      <th></th>\n",
        "      <th>A</th>\n",
        "      <th>B</th>\n",
        "      <th>C</th>\n",
        "    </tr>\n",
        "  </thead>\n",
        "  <tbody>\n",
        "    <tr>\n",
        "      <th>2013-01-15</th>\n",
        "      <td> 0.557613</td>\n",
        "      <td> 0.512818</td>\n",
        "      <td> 0.451684</td>\n",
        "    </tr>\n",
        "    <tr>\n",
        "      <th>2013-02-15</th>\n",
        "      <td> 0.618039</td>\n",
        "      <td> 0.551681</td>\n",
        "      <td> 0.394509</td>\n",
        "    </tr>\n",
        "    <tr>\n",
        "      <th>2013-03-15</th>\n",
        "      <td> 0.484324</td>\n",
        "      <td> 0.518380</td>\n",
        "      <td> 0.653036</td>\n",
        "    </tr>\n",
        "    <tr>\n",
        "      <th>2013-04-15</th>\n",
        "      <td> 0.448557</td>\n",
        "      <td> 0.491792</td>\n",
        "      <td> 0.608685</td>\n",
        "    </tr>\n",
        "    <tr>\n",
        "      <th>2013-05-15</th>\n",
        "      <td> 0.646312</td>\n",
        "      <td> 0.456262</td>\n",
        "      <td> 0.433518</td>\n",
        "    </tr>\n",
        "    <tr>\n",
        "      <th>2013-06-15</th>\n",
        "      <td> 0.332497</td>\n",
        "      <td> 0.397555</td>\n",
        "      <td> 0.602137</td>\n",
        "    </tr>\n",
        "    <tr>\n",
        "      <th>2013-07-15</th>\n",
        "      <td> 0.536190</td>\n",
        "      <td> 0.463767</td>\n",
        "      <td> 0.357548</td>\n",
        "    </tr>\n",
        "    <tr>\n",
        "      <th>2013-08-15</th>\n",
        "      <td> 0.567003</td>\n",
        "      <td> 0.486926</td>\n",
        "      <td> 0.488087</td>\n",
        "    </tr>\n",
        "    <tr>\n",
        "      <th>2013-09-15</th>\n",
        "      <td> 0.464111</td>\n",
        "      <td> 0.482367</td>\n",
        "      <td> 0.413950</td>\n",
        "    </tr>\n",
        "    <tr>\n",
        "      <th>2013-10-15</th>\n",
        "      <td> 0.542624</td>\n",
        "      <td> 0.465717</td>\n",
        "      <td> 0.533276</td>\n",
        "    </tr>\n",
        "  </tbody>\n",
        "</table>\n",
        "</div>"
       ],
       "metadata": {},
       "output_type": "pyout",
       "prompt_number": 52,
       "text": [
        "                   A         B         C\n",
        "2013-01-15  0.557613  0.512818  0.451684\n",
        "2013-02-15  0.618039  0.551681  0.394509\n",
        "2013-03-15  0.484324  0.518380  0.653036\n",
        "2013-04-15  0.448557  0.491792  0.608685\n",
        "2013-05-15  0.646312  0.456262  0.433518\n",
        "2013-06-15  0.332497  0.397555  0.602137\n",
        "2013-07-15  0.536190  0.463767  0.357548\n",
        "2013-08-15  0.567003  0.486926  0.488087\n",
        "2013-09-15  0.464111  0.482367  0.413950\n",
        "2013-10-15  0.542624  0.465717  0.533276"
       ]
      }
     ],
     "prompt_number": 52
    },
    {
     "cell_type": "code",
     "collapsed": false,
     "input": [
      "type(ts3.groupby(crappyCustomAggregator).agg('mean')['A']) # These are of course..."
     ],
     "language": "python",
     "metadata": {},
     "outputs": [
      {
       "metadata": {},
       "output_type": "pyout",
       "prompt_number": 53,
       "text": [
        "pandas.core.series.TimeSeries"
       ]
      }
     ],
     "prompt_number": 53
    },
    {
     "cell_type": "code",
     "collapsed": false,
     "input": [
      "ts3.resample('D').head() # Upsampling generates NaNs"
     ],
     "language": "python",
     "metadata": {},
     "outputs": [
      {
       "html": [
        "<div style=\"max-height:1000px;max-width:1500px;overflow:auto;\">\n",
        "<table border=\"1\" class=\"dataframe\">\n",
        "  <thead>\n",
        "    <tr style=\"text-align: right;\">\n",
        "      <th></th>\n",
        "      <th>A</th>\n",
        "      <th>B</th>\n",
        "      <th>C</th>\n",
        "    </tr>\n",
        "  </thead>\n",
        "  <tbody>\n",
        "    <tr>\n",
        "      <th>2013-01-01</th>\n",
        "      <td> 0.819189</td>\n",
        "      <td> 0.905019</td>\n",
        "      <td> 0.373430</td>\n",
        "    </tr>\n",
        "    <tr>\n",
        "      <th>2013-01-02</th>\n",
        "      <td>      NaN</td>\n",
        "      <td>      NaN</td>\n",
        "      <td>      NaN</td>\n",
        "    </tr>\n",
        "    <tr>\n",
        "      <th>2013-01-03</th>\n",
        "      <td>      NaN</td>\n",
        "      <td>      NaN</td>\n",
        "      <td>      NaN</td>\n",
        "    </tr>\n",
        "    <tr>\n",
        "      <th>2013-01-04</th>\n",
        "      <td> 0.929600</td>\n",
        "      <td> 0.205730</td>\n",
        "      <td> 0.045735</td>\n",
        "    </tr>\n",
        "    <tr>\n",
        "      <th>2013-01-05</th>\n",
        "      <td>      NaN</td>\n",
        "      <td>      NaN</td>\n",
        "      <td>      NaN</td>\n",
        "    </tr>\n",
        "  </tbody>\n",
        "</table>\n",
        "</div>"
       ],
       "metadata": {},
       "output_type": "pyout",
       "prompt_number": 54,
       "text": [
        "                   A         B         C\n",
        "2013-01-01  0.819189  0.905019  0.373430\n",
        "2013-01-02       NaN       NaN       NaN\n",
        "2013-01-03       NaN       NaN       NaN\n",
        "2013-01-04  0.929600  0.205730  0.045735\n",
        "2013-01-05       NaN       NaN       NaN"
       ]
      }
     ],
     "prompt_number": 54
    },
    {
     "cell_type": "code",
     "collapsed": false,
     "input": [
      "ts3.resample('D', fill_method='ffill').head() # Filling in the gaps..."
     ],
     "language": "python",
     "metadata": {},
     "outputs": [
      {
       "html": [
        "<div style=\"max-height:1000px;max-width:1500px;overflow:auto;\">\n",
        "<table border=\"1\" class=\"dataframe\">\n",
        "  <thead>\n",
        "    <tr style=\"text-align: right;\">\n",
        "      <th></th>\n",
        "      <th>A</th>\n",
        "      <th>B</th>\n",
        "      <th>C</th>\n",
        "    </tr>\n",
        "  </thead>\n",
        "  <tbody>\n",
        "    <tr>\n",
        "      <th>2013-01-01</th>\n",
        "      <td> 0.819189</td>\n",
        "      <td> 0.905019</td>\n",
        "      <td> 0.373430</td>\n",
        "    </tr>\n",
        "    <tr>\n",
        "      <th>2013-01-02</th>\n",
        "      <td> 0.819189</td>\n",
        "      <td> 0.905019</td>\n",
        "      <td> 0.373430</td>\n",
        "    </tr>\n",
        "    <tr>\n",
        "      <th>2013-01-03</th>\n",
        "      <td> 0.819189</td>\n",
        "      <td> 0.905019</td>\n",
        "      <td> 0.373430</td>\n",
        "    </tr>\n",
        "    <tr>\n",
        "      <th>2013-01-04</th>\n",
        "      <td> 0.929600</td>\n",
        "      <td> 0.205730</td>\n",
        "      <td> 0.045735</td>\n",
        "    </tr>\n",
        "    <tr>\n",
        "      <th>2013-01-05</th>\n",
        "      <td> 0.929600</td>\n",
        "      <td> 0.205730</td>\n",
        "      <td> 0.045735</td>\n",
        "    </tr>\n",
        "  </tbody>\n",
        "</table>\n",
        "</div>"
       ],
       "metadata": {},
       "output_type": "pyout",
       "prompt_number": 55,
       "text": [
        "                   A         B         C\n",
        "2013-01-01  0.819189  0.905019  0.373430\n",
        "2013-01-02  0.819189  0.905019  0.373430\n",
        "2013-01-03  0.819189  0.905019  0.373430\n",
        "2013-01-04  0.929600  0.205730  0.045735\n",
        "2013-01-05  0.929600  0.205730  0.045735"
       ]
      }
     ],
     "prompt_number": 55
    },
    {
     "cell_type": "markdown",
     "metadata": {},
     "source": [
      "There are nuances such as, in downsampling, what aggregated data is labeled as (the \"label\" argument) and exactly what to combine (the \"closed\" argument). See the <a href=\"http://pandas.pydata.org/pandas-docs/dev/generated/pandas.DataFrame.resample.html\">documentation</a> for details."
     ]
    },
    {
     "cell_type": "heading",
     "level": 3,
     "metadata": {},
     "source": [
      "Efficiently Matching Indices (... Because Resampling Two DFs to a GCD Frequency and then Combining Just Isn't)"
     ]
    },
    {
     "cell_type": "code",
     "collapsed": false,
     "input": [
      "ts3.head()"
     ],
     "language": "python",
     "metadata": {},
     "outputs": [
      {
       "html": [
        "<div style=\"max-height:1000px;max-width:1500px;overflow:auto;\">\n",
        "<table border=\"1\" class=\"dataframe\">\n",
        "  <thead>\n",
        "    <tr style=\"text-align: right;\">\n",
        "      <th></th>\n",
        "      <th>A</th>\n",
        "      <th>B</th>\n",
        "      <th>C</th>\n",
        "    </tr>\n",
        "  </thead>\n",
        "  <tbody>\n",
        "    <tr>\n",
        "      <th>2013-01-01</th>\n",
        "      <td> 0.819189</td>\n",
        "      <td> 0.905019</td>\n",
        "      <td> 0.373430</td>\n",
        "    </tr>\n",
        "    <tr>\n",
        "      <th>2013-01-04</th>\n",
        "      <td> 0.929600</td>\n",
        "      <td> 0.205730</td>\n",
        "      <td> 0.045735</td>\n",
        "    </tr>\n",
        "    <tr>\n",
        "      <th>2013-01-07</th>\n",
        "      <td> 0.899243</td>\n",
        "      <td> 0.646880</td>\n",
        "      <td> 0.527104</td>\n",
        "    </tr>\n",
        "    <tr>\n",
        "      <th>2013-01-10</th>\n",
        "      <td> 0.156595</td>\n",
        "      <td> 0.278339</td>\n",
        "      <td> 0.819228</td>\n",
        "    </tr>\n",
        "    <tr>\n",
        "      <th>2013-01-13</th>\n",
        "      <td> 0.616998</td>\n",
        "      <td> 0.698983</td>\n",
        "      <td> 0.559213</td>\n",
        "    </tr>\n",
        "  </tbody>\n",
        "</table>\n",
        "</div>"
       ],
       "metadata": {},
       "output_type": "pyout",
       "prompt_number": 56,
       "text": [
        "                   A         B         C\n",
        "2013-01-01  0.819189  0.905019  0.373430\n",
        "2013-01-04  0.929600  0.205730  0.045735\n",
        "2013-01-07  0.899243  0.646880  0.527104\n",
        "2013-01-10  0.156595  0.278339  0.819228\n",
        "2013-01-13  0.616998  0.698983  0.559213"
       ]
      }
     ],
     "prompt_number": 56
    },
    {
     "cell_type": "code",
     "collapsed": false,
     "input": [
      "ts4 = pd.DataFrame(np.random.rand(80,3), columns = ['D', 'E', 'F'], index=pd.date_range('1/1/2013', periods=80, freq='4D'))\n",
      "ts4.head()"
     ],
     "language": "python",
     "metadata": {},
     "outputs": [
      {
       "html": [
        "<div style=\"max-height:1000px;max-width:1500px;overflow:auto;\">\n",
        "<table border=\"1\" class=\"dataframe\">\n",
        "  <thead>\n",
        "    <tr style=\"text-align: right;\">\n",
        "      <th></th>\n",
        "      <th>D</th>\n",
        "      <th>E</th>\n",
        "      <th>F</th>\n",
        "    </tr>\n",
        "  </thead>\n",
        "  <tbody>\n",
        "    <tr>\n",
        "      <th>2013-01-01</th>\n",
        "      <td> 0.914183</td>\n",
        "      <td> 0.985118</td>\n",
        "      <td> 0.339988</td>\n",
        "    </tr>\n",
        "    <tr>\n",
        "      <th>2013-01-05</th>\n",
        "      <td> 0.122658</td>\n",
        "      <td> 0.936906</td>\n",
        "      <td> 0.461938</td>\n",
        "    </tr>\n",
        "    <tr>\n",
        "      <th>2013-01-09</th>\n",
        "      <td> 0.600594</td>\n",
        "      <td> 0.104100</td>\n",
        "      <td> 0.681836</td>\n",
        "    </tr>\n",
        "    <tr>\n",
        "      <th>2013-01-13</th>\n",
        "      <td> 0.227148</td>\n",
        "      <td> 0.308538</td>\n",
        "      <td> 0.845614</td>\n",
        "    </tr>\n",
        "    <tr>\n",
        "      <th>2013-01-17</th>\n",
        "      <td> 0.495674</td>\n",
        "      <td> 0.869094</td>\n",
        "      <td> 0.318434</td>\n",
        "    </tr>\n",
        "  </tbody>\n",
        "</table>\n",
        "</div>"
       ],
       "metadata": {},
       "output_type": "pyout",
       "prompt_number": 57,
       "text": [
        "                   D         E         F\n",
        "2013-01-01  0.914183  0.985118  0.339988\n",
        "2013-01-05  0.122658  0.936906  0.461938\n",
        "2013-01-09  0.600594  0.104100  0.681836\n",
        "2013-01-13  0.227148  0.308538  0.845614\n",
        "2013-01-17  0.495674  0.869094  0.318434"
       ]
      }
     ],
     "prompt_number": 57
    },
    {
     "cell_type": "code",
     "collapsed": false,
     "input": [
      "ts4.reindex(ts3.index).head() # Presenting ts4 according to the ts3 index"
     ],
     "language": "python",
     "metadata": {},
     "outputs": [
      {
       "html": [
        "<div style=\"max-height:1000px;max-width:1500px;overflow:auto;\">\n",
        "<table border=\"1\" class=\"dataframe\">\n",
        "  <thead>\n",
        "    <tr style=\"text-align: right;\">\n",
        "      <th></th>\n",
        "      <th>D</th>\n",
        "      <th>E</th>\n",
        "      <th>F</th>\n",
        "    </tr>\n",
        "  </thead>\n",
        "  <tbody>\n",
        "    <tr>\n",
        "      <th>2013-01-01</th>\n",
        "      <td> 0.914183</td>\n",
        "      <td> 0.985118</td>\n",
        "      <td> 0.339988</td>\n",
        "    </tr>\n",
        "    <tr>\n",
        "      <th>2013-01-04</th>\n",
        "      <td>      NaN</td>\n",
        "      <td>      NaN</td>\n",
        "      <td>      NaN</td>\n",
        "    </tr>\n",
        "    <tr>\n",
        "      <th>2013-01-07</th>\n",
        "      <td>      NaN</td>\n",
        "      <td>      NaN</td>\n",
        "      <td>      NaN</td>\n",
        "    </tr>\n",
        "    <tr>\n",
        "      <th>2013-01-10</th>\n",
        "      <td>      NaN</td>\n",
        "      <td>      NaN</td>\n",
        "      <td>      NaN</td>\n",
        "    </tr>\n",
        "    <tr>\n",
        "      <th>2013-01-13</th>\n",
        "      <td> 0.227148</td>\n",
        "      <td> 0.308538</td>\n",
        "      <td> 0.845614</td>\n",
        "    </tr>\n",
        "  </tbody>\n",
        "</table>\n",
        "</div>"
       ],
       "metadata": {},
       "output_type": "pyout",
       "prompt_number": 58,
       "text": [
        "                   D         E         F\n",
        "2013-01-01  0.914183  0.985118  0.339988\n",
        "2013-01-04       NaN       NaN       NaN\n",
        "2013-01-07       NaN       NaN       NaN\n",
        "2013-01-10       NaN       NaN       NaN\n",
        "2013-01-13  0.227148  0.308538  0.845614"
       ]
      }
     ],
     "prompt_number": 58
    },
    {
     "cell_type": "code",
     "collapsed": false,
     "input": [
      "ts4.reindex(ts3.index, method='ffill').head() # Presenting ts4 according to the ts3 index, filling forward (Note the 7 Jan values)"
     ],
     "language": "python",
     "metadata": {},
     "outputs": [
      {
       "html": [
        "<div style=\"max-height:1000px;max-width:1500px;overflow:auto;\">\n",
        "<table border=\"1\" class=\"dataframe\">\n",
        "  <thead>\n",
        "    <tr style=\"text-align: right;\">\n",
        "      <th></th>\n",
        "      <th>D</th>\n",
        "      <th>E</th>\n",
        "      <th>F</th>\n",
        "    </tr>\n",
        "  </thead>\n",
        "  <tbody>\n",
        "    <tr>\n",
        "      <th>2013-01-01</th>\n",
        "      <td> 0.914183</td>\n",
        "      <td> 0.985118</td>\n",
        "      <td> 0.339988</td>\n",
        "    </tr>\n",
        "    <tr>\n",
        "      <th>2013-01-04</th>\n",
        "      <td> 0.914183</td>\n",
        "      <td> 0.985118</td>\n",
        "      <td> 0.339988</td>\n",
        "    </tr>\n",
        "    <tr>\n",
        "      <th>2013-01-07</th>\n",
        "      <td> 0.122658</td>\n",
        "      <td> 0.936906</td>\n",
        "      <td> 0.461938</td>\n",
        "    </tr>\n",
        "    <tr>\n",
        "      <th>2013-01-10</th>\n",
        "      <td> 0.600594</td>\n",
        "      <td> 0.104100</td>\n",
        "      <td> 0.681836</td>\n",
        "    </tr>\n",
        "    <tr>\n",
        "      <th>2013-01-13</th>\n",
        "      <td> 0.227148</td>\n",
        "      <td> 0.308538</td>\n",
        "      <td> 0.845614</td>\n",
        "    </tr>\n",
        "  </tbody>\n",
        "</table>\n",
        "</div>"
       ],
       "metadata": {},
       "output_type": "pyout",
       "prompt_number": 59,
       "text": [
        "                   D         E         F\n",
        "2013-01-01  0.914183  0.985118  0.339988\n",
        "2013-01-04  0.914183  0.985118  0.339988\n",
        "2013-01-07  0.122658  0.936906  0.461938\n",
        "2013-01-10  0.600594  0.104100  0.681836\n",
        "2013-01-13  0.227148  0.308538  0.845614"
       ]
      }
     ],
     "prompt_number": 59
    },
    {
     "cell_type": "code",
     "collapsed": false,
     "input": [
      "ts3.join(ts4.reindex(ts3.index, method='ffill')).head()"
     ],
     "language": "python",
     "metadata": {},
     "outputs": [
      {
       "html": [
        "<div style=\"max-height:1000px;max-width:1500px;overflow:auto;\">\n",
        "<table border=\"1\" class=\"dataframe\">\n",
        "  <thead>\n",
        "    <tr style=\"text-align: right;\">\n",
        "      <th></th>\n",
        "      <th>A</th>\n",
        "      <th>B</th>\n",
        "      <th>C</th>\n",
        "      <th>D</th>\n",
        "      <th>E</th>\n",
        "      <th>F</th>\n",
        "    </tr>\n",
        "  </thead>\n",
        "  <tbody>\n",
        "    <tr>\n",
        "      <th>2013-01-01</th>\n",
        "      <td> 0.819189</td>\n",
        "      <td> 0.905019</td>\n",
        "      <td> 0.373430</td>\n",
        "      <td> 0.914183</td>\n",
        "      <td> 0.985118</td>\n",
        "      <td> 0.339988</td>\n",
        "    </tr>\n",
        "    <tr>\n",
        "      <th>2013-01-04</th>\n",
        "      <td> 0.929600</td>\n",
        "      <td> 0.205730</td>\n",
        "      <td> 0.045735</td>\n",
        "      <td> 0.914183</td>\n",
        "      <td> 0.985118</td>\n",
        "      <td> 0.339988</td>\n",
        "    </tr>\n",
        "    <tr>\n",
        "      <th>2013-01-07</th>\n",
        "      <td> 0.899243</td>\n",
        "      <td> 0.646880</td>\n",
        "      <td> 0.527104</td>\n",
        "      <td> 0.122658</td>\n",
        "      <td> 0.936906</td>\n",
        "      <td> 0.461938</td>\n",
        "    </tr>\n",
        "    <tr>\n",
        "      <th>2013-01-10</th>\n",
        "      <td> 0.156595</td>\n",
        "      <td> 0.278339</td>\n",
        "      <td> 0.819228</td>\n",
        "      <td> 0.600594</td>\n",
        "      <td> 0.104100</td>\n",
        "      <td> 0.681836</td>\n",
        "    </tr>\n",
        "    <tr>\n",
        "      <th>2013-01-13</th>\n",
        "      <td> 0.616998</td>\n",
        "      <td> 0.698983</td>\n",
        "      <td> 0.559213</td>\n",
        "      <td> 0.227148</td>\n",
        "      <td> 0.308538</td>\n",
        "      <td> 0.845614</td>\n",
        "    </tr>\n",
        "  </tbody>\n",
        "</table>\n",
        "</div>"
       ],
       "metadata": {},
       "output_type": "pyout",
       "prompt_number": 60,
       "text": [
        "                   A         B         C         D         E         F\n",
        "2013-01-01  0.819189  0.905019  0.373430  0.914183  0.985118  0.339988\n",
        "2013-01-04  0.929600  0.205730  0.045735  0.914183  0.985118  0.339988\n",
        "2013-01-07  0.899243  0.646880  0.527104  0.122658  0.936906  0.461938\n",
        "2013-01-10  0.156595  0.278339  0.819228  0.600594  0.104100  0.681836\n",
        "2013-01-13  0.616998  0.698983  0.559213  0.227148  0.308538  0.845614"
       ]
      }
     ],
     "prompt_number": 60
    },
    {
     "cell_type": "code",
     "collapsed": false,
     "input": [
      "(ts3.head(), ts4.head()) # Compare..."
     ],
     "language": "python",
     "metadata": {},
     "outputs": [
      {
       "metadata": {},
       "output_type": "pyout",
       "prompt_number": 61,
       "text": [
        "(                   A         B         C\n",
        "2013-01-01  0.819189  0.905019  0.373430\n",
        "2013-01-04  0.929600  0.205730  0.045735\n",
        "2013-01-07  0.899243  0.646880  0.527104\n",
        "2013-01-10  0.156595  0.278339  0.819228\n",
        "2013-01-13  0.616998  0.698983  0.559213,\n",
        "                    D         E         F\n",
        "2013-01-01  0.914183  0.985118  0.339988\n",
        "2013-01-05  0.122658  0.936906  0.461938\n",
        "2013-01-09  0.600594  0.104100  0.681836\n",
        "2013-01-13  0.227148  0.308538  0.845614\n",
        "2013-01-17  0.495674  0.869094  0.318434)"
       ]
      }
     ],
     "prompt_number": 61
    },
    {
     "cell_type": "heading",
     "level": 3,
     "metadata": {},
     "source": [
      "Moving Window Functions"
     ]
    },
    {
     "cell_type": "code",
     "collapsed": false,
     "input": [
      "ax = SnP500_Prices['^GSPC'].plot()\n",
      "pd.rolling_mean(SnP500_Prices['^GSPC'], 250).plot(ax = ax)\n",
      "ax.legend(('S&P500 Index', 'S&P500 250-day Moving Average'), loc='upper left')"
     ],
     "language": "python",
     "metadata": {},
     "outputs": [
      {
       "metadata": {},
       "output_type": "pyout",
       "prompt_number": 62,
       "text": [
        "<matplotlib.legend.Legend at 0x291a4bd0>"
       ]
      },
      {
       "metadata": {},
       "output_type": "display_data",
       "png": "[encoded data removed]",
       "text": [
        "<matplotlib.figure.Figure at 0x291a4c30>"
       ]
      }
     ],
     "prompt_number": 62
    },
    {
     "cell_type": "code",
     "collapsed": false,
     "input": [
      "ax = SnP500_Prices['^GSPC'].plot()\n",
      "pd.rolling_quantile(SnP500_Prices['^GSPC'], 250, 0.8).plot(ax = ax)\n",
      "ax.legend(('S&P500 Index', 'S&P500 250-day Moving 80th Percentile'), loc='upper left')"
     ],
     "language": "python",
     "metadata": {},
     "outputs": [
      {
       "metadata": {},
       "output_type": "pyout",
       "prompt_number": 63,
       "text": [
        "<matplotlib.legend.Legend at 0x27da9370>"
       ]
      },
      {
       "metadata": {},
       "output_type": "display_data",
       "png": "[encoded data removed]",
       "text": [
        "<matplotlib.figure.Figure at 0x27da9090>"
       ]
      }
     ],
     "prompt_number": 63
    },
    {
     "cell_type": "code",
     "collapsed": false,
     "input": [
      "# But this is binary...\n",
      "ax = pd.rolling_corr(SnP500_Prices['AAPL'], SnP500_Prices['MSFT'], 100).plot()\n",
      "pd.rolling_corr(SnP500_Prices['AAPL'], SnP500_Prices['AKAM'], 100).plot(ax = ax)\n",
      "ax.legend(('100-day Moving Correlation (AAPL, MSFT)', '100-day Moving Correlation (AAPL, AKAM)'), loc='lower left')"
     ],
     "language": "python",
     "metadata": {},
     "outputs": [
      {
       "metadata": {},
       "output_type": "pyout",
       "prompt_number": 64,
       "text": [
        "<matplotlib.legend.Legend at 0x28999e90>"
       ]
      },
      {
       "metadata": {},
       "output_type": "display_data",
       "png": "[encoded data removed]",
       "text": [
        "<matplotlib.figure.Figure at 0x29195af0>"
       ]
      }
     ],
     "prompt_number": 64
    },
    {
     "cell_type": "markdown",
     "metadata": {},
     "source": [
      "A list of available functions:\n",
      "\n",
      "<table border=\"1\">\n",
      "<thead valign=\"bottom\">\n",
      "<tr><th class=\"head\">Function</th>\n",
      "<th class=\"head\">Description</th>\n",
      "</tr>\n",
      "</thead>\n",
      "<tbody valign=\"top\">\n",
      "<tr><td><tt><span class=\"pre\">rolling_count</span></tt></td>\n",
      "<td>Number of non-null observations</td>\n",
      "</tr>\n",
      "<tr><td><tt><span class=\"pre\">rolling_sum</span></tt></td>\n",
      "<td>Sum of values</td>\n",
      "</tr>\n",
      "<tr><td><tt><span class=\"pre\">rolling_mean</span></tt></td>\n",
      "<td>Mean of values</td>\n",
      "</tr>\n",
      "<tr><td><tt><span class=\"pre\">rolling_median</span></tt></td>\n",
      "<td>Arithmetic median of values</td>\n",
      "</tr>\n",
      "<tr><td><tt><span class=\"pre\">rolling_min</span></tt></td>\n",
      "<td>Minimum</td>\n",
      "</tr>\n",
      "<tr><td><tt><span class=\"pre\">rolling_max</span></tt></td>\n",
      "<td>Maximum</td>\n",
      "</tr>\n",
      "<tr><td><tt><span class=\"pre\">rolling_std</span></tt></td>\n",
      "<td>Unbiased standard deviation</td>\n",
      "</tr>\n",
      "<tr><td><tt><span class=\"pre\">rolling_var</span></tt></td>\n",
      "<td>Unbiased variance</td>\n",
      "</tr>\n",
      "<tr><td><tt><span class=\"pre\">rolling_skew</span></tt></td>\n",
      "<td>Unbiased skewness (3rd moment)</td>\n",
      "</tr>\n",
      "<tr><td><tt><span class=\"pre\">rolling_kurt</span></tt></td>\n",
      "<td>Unbiased kurtosis (4th moment)</td>\n",
      "</tr>\n",
      "<tr><td><tt><span class=\"pre\">rolling_quantile</span></tt></td>\n",
      "<td>Sample quantile (value at %)</td>\n",
      "</tr>\n",
      "<tr><td><tt><span class=\"pre\">rolling_apply</span></tt></td>\n",
      "<td>Generic apply</td>\n",
      "</tr>\n",
      "<tr><td><tt><span class=\"pre\">rolling_cov</span></tt></td>\n",
      "<td>Unbiased covariance (binary)</td>\n",
      "</tr>\n",
      "<tr><td><tt><span class=\"pre\">rolling_corr</span></tt></td>\n",
      "<td>Correlation (binary)</td>\n",
      "</tr>\n",
      "<tr><td><tt><span class=\"pre\">rolling_corr_pairwise</span></tt></td>\n",
      "<td>Pairwise correlation of DataFrame columns</td>\n",
      "</tr>\n",
      "<tr><td><tt><span class=\"pre\">rolling_window</span></tt></td>\n",
      "<td>Moving window function</td>\n",
      "</tr>\n",
      "</tbody>\n",
      "</table>\n",
      "\n",
      "Most take arguments of the form:\n",
      "<ul class=\"simple\">\n",
      "<li><tt><span class=\"pre\">window</span></tt>: size of moving window</li>\n",
      "<li><tt><span class=\"pre\">min_periods</span></tt>: threshold of non-null data points to require (otherwise\n",
      "result is NA)</li>\n",
      "<li><tt><span class=\"pre\">freq</span></tt>: optionally specify a <em>frequency string</em> or <em>DateOffset</em> to pre-conform the data to.\n",
      "Note that prior to pandas v0.8.0, a keyword argument <tt><span class=\"pre\">time_rule</span></tt> was used\n",
      "instead of <tt><span class=\"pre\">freq</span></tt> that referred to the legacy time rule constants</li>\n",
      "</ul>\n",
      "\n",
      "See <a href=\"http://pandas.pydata.org/pandas-docs/stable/computation.html#moving-rolling-statistics-moments\">documentation</a> for more information."
     ]
    },
    {
     "cell_type": "code",
     "collapsed": false,
     "input": [
      "# Notice ruling rolling_apply: Customized windowed aggregation\n",
      "ax = SnP500_Prices['AAPL'].plot()\n",
      "rolling_mid_min_max = lambda x: (min(x) + max(x)) / 2.0\n",
      "pd.rolling_mean(SnP500_Prices['AAPL'], 250).plot(ax = ax)\n",
      "pd.rolling_apply(SnP500_Prices['AAPL'], 250, rolling_mid_min_max).plot(ax = ax)\n",
      "ax.legend(('AAPL Stock Price', 'AAPL Moving Average', 'AAPL (Min+Max)/2'), loc='upper left')"
     ],
     "language": "python",
     "metadata": {},
     "outputs": [
      {
       "metadata": {},
       "output_type": "pyout",
       "prompt_number": 65,
       "text": [
        "<matplotlib.legend.Legend at 0x288e6310>"
       ]
      },
      {
       "metadata": {},
       "output_type": "display_data",
       "png": "[encoded data removed]",
       "text": [
        "<matplotlib.figure.Figure at 0x28980bb0>"
       ]
      }
     ],
     "prompt_number": 65
    },
    {
     "cell_type": "heading",
     "level": 3,
     "metadata": {},
     "source": [
      "Periods: Something Nice to Be Aware of (And Use Where Necessary)"
     ]
    },
    {
     "cell_type": "code",
     "collapsed": false,
     "input": [
      "periodSeries = DataFrame(np.random.randn(24, 4),\n",
      "                         index=pd.period_range(start='1-2000', periods=24, freq='M'),\n",
      "                         columns=['A', 'B', 'C', 'D'])\n",
      "periodSeries"
     ],
     "language": "python",
     "metadata": {},
     "outputs": [
      {
       "html": [
        "<div style=\"max-height:1000px;max-width:1500px;overflow:auto;\">\n",
        "<table border=\"1\" class=\"dataframe\">\n",
        "  <thead>\n",
        "    <tr style=\"text-align: right;\">\n",
        "      <th></th>\n",
        "      <th>A</th>\n",
        "      <th>B</th>\n",
        "      <th>C</th>\n",
        "      <th>D</th>\n",
        "    </tr>\n",
        "  </thead>\n",
        "  <tbody>\n",
        "    <tr>\n",
        "      <th>2000-01</th>\n",
        "      <td>-0.333657</td>\n",
        "      <td> 0.076362</td>\n",
        "      <td> 1.229307</td>\n",
        "      <td> 1.434718</td>\n",
        "    </tr>\n",
        "    <tr>\n",
        "      <th>2000-02</th>\n",
        "      <td> 0.032970</td>\n",
        "      <td> 0.772910</td>\n",
        "      <td>-0.490879</td>\n",
        "      <td>-0.567398</td>\n",
        "    </tr>\n",
        "    <tr>\n",
        "      <th>2000-03</th>\n",
        "      <td>-0.644700</td>\n",
        "      <td>-1.453545</td>\n",
        "      <td> 1.597074</td>\n",
        "      <td>-0.484057</td>\n",
        "    </tr>\n",
        "    <tr>\n",
        "      <th>2000-04</th>\n",
        "      <td>-0.531755</td>\n",
        "      <td>-0.907011</td>\n",
        "      <td>-1.009131</td>\n",
        "      <td>-0.392860</td>\n",
        "    </tr>\n",
        "    <tr>\n",
        "      <th>2000-05</th>\n",
        "      <td>-1.332963</td>\n",
        "      <td>-0.863579</td>\n",
        "      <td> 0.853555</td>\n",
        "      <td>-0.952387</td>\n",
        "    </tr>\n",
        "    <tr>\n",
        "      <th>2000-06</th>\n",
        "      <td>-1.518775</td>\n",
        "      <td> 1.547993</td>\n",
        "      <td>-1.691780</td>\n",
        "      <td>-0.342846</td>\n",
        "    </tr>\n",
        "    <tr>\n",
        "      <th>2000-07</th>\n",
        "      <td> 0.527235</td>\n",
        "      <td>-1.013869</td>\n",
        "      <td>-1.599967</td>\n",
        "      <td> 1.281241</td>\n",
        "    </tr>\n",
        "    <tr>\n",
        "      <th>2000-08</th>\n",
        "      <td>-0.481102</td>\n",
        "      <td> 1.491652</td>\n",
        "      <td>-0.603823</td>\n",
        "      <td> 0.530046</td>\n",
        "    </tr>\n",
        "    <tr>\n",
        "      <th>2000-09</th>\n",
        "      <td>-0.713124</td>\n",
        "      <td> 0.665538</td>\n",
        "      <td>-1.022847</td>\n",
        "      <td> 0.858926</td>\n",
        "    </tr>\n",
        "    <tr>\n",
        "      <th>2000-10</th>\n",
        "      <td>-2.697918</td>\n",
        "      <td>-0.099985</td>\n",
        "      <td> 0.757826</td>\n",
        "      <td> 0.228368</td>\n",
        "    </tr>\n",
        "    <tr>\n",
        "      <th>2000-11</th>\n",
        "      <td> 0.773896</td>\n",
        "      <td>-0.099863</td>\n",
        "      <td>-1.194049</td>\n",
        "      <td>-0.226406</td>\n",
        "    </tr>\n",
        "    <tr>\n",
        "      <th>2000-12</th>\n",
        "      <td>-0.224165</td>\n",
        "      <td> 1.136623</td>\n",
        "      <td> 1.817829</td>\n",
        "      <td> 0.036604</td>\n",
        "    </tr>\n",
        "    <tr>\n",
        "      <th>2001-01</th>\n",
        "      <td>-0.798035</td>\n",
        "      <td>-0.318995</td>\n",
        "      <td>-0.213098</td>\n",
        "      <td>-1.734705</td>\n",
        "    </tr>\n",
        "    <tr>\n",
        "      <th>2001-02</th>\n",
        "      <td> 1.918934</td>\n",
        "      <td>-2.150659</td>\n",
        "      <td>-1.409389</td>\n",
        "      <td>-1.244332</td>\n",
        "    </tr>\n",
        "    <tr>\n",
        "      <th>2001-03</th>\n",
        "      <td> 0.323957</td>\n",
        "      <td>-1.145214</td>\n",
        "      <td>-0.310641</td>\n",
        "      <td>-1.333463</td>\n",
        "    </tr>\n",
        "    <tr>\n",
        "      <th>2001-04</th>\n",
        "      <td> 0.182925</td>\n",
        "      <td>-1.472738</td>\n",
        "      <td>-0.203789</td>\n",
        "      <td>-0.558670</td>\n",
        "    </tr>\n",
        "    <tr>\n",
        "      <th>2001-05</th>\n",
        "      <td>-3.064494</td>\n",
        "      <td> 2.070848</td>\n",
        "      <td>-0.767355</td>\n",
        "      <td> 1.070463</td>\n",
        "    </tr>\n",
        "    <tr>\n",
        "      <th>2001-06</th>\n",
        "      <td>-2.532961</td>\n",
        "      <td>-0.814210</td>\n",
        "      <td>-0.673900</td>\n",
        "      <td> 0.157318</td>\n",
        "    </tr>\n",
        "    <tr>\n",
        "      <th>2001-07</th>\n",
        "      <td>-0.020134</td>\n",
        "      <td> 1.224493</td>\n",
        "      <td>-0.343157</td>\n",
        "      <td> 2.049743</td>\n",
        "    </tr>\n",
        "    <tr>\n",
        "      <th>2001-08</th>\n",
        "      <td> 0.109136</td>\n",
        "      <td> 1.686211</td>\n",
        "      <td>-1.525380</td>\n",
        "      <td> 1.323928</td>\n",
        "    </tr>\n",
        "    <tr>\n",
        "      <th>2001-09</th>\n",
        "      <td> 2.162116</td>\n",
        "      <td> 0.512445</td>\n",
        "      <td>-0.651782</td>\n",
        "      <td> 0.049229</td>\n",
        "    </tr>\n",
        "    <tr>\n",
        "      <th>2001-10</th>\n",
        "      <td> 0.100791</td>\n",
        "      <td> 0.050979</td>\n",
        "      <td> 1.572882</td>\n",
        "      <td>-1.137316</td>\n",
        "    </tr>\n",
        "    <tr>\n",
        "      <th>2001-11</th>\n",
        "      <td> 0.443140</td>\n",
        "      <td> 0.044351</td>\n",
        "      <td> 0.578286</td>\n",
        "      <td>-1.140766</td>\n",
        "    </tr>\n",
        "    <tr>\n",
        "      <th>2001-12</th>\n",
        "      <td>-1.798788</td>\n",
        "      <td> 0.710481</td>\n",
        "      <td> 0.019362</td>\n",
        "      <td> 1.384274</td>\n",
        "    </tr>\n",
        "  </tbody>\n",
        "</table>\n",
        "</div>"
       ],
       "metadata": {},
       "output_type": "pyout",
       "prompt_number": 66,
       "text": [
        "                A         B         C         D\n",
        "2000-01 -0.333657  0.076362  1.229307  1.434718\n",
        "2000-02  0.032970  0.772910 -0.490879 -0.567398\n",
        "2000-03 -0.644700 -1.453545  1.597074 -0.484057\n",
        "2000-04 -0.531755 -0.907011 -1.009131 -0.392860\n",
        "2000-05 -1.332963 -0.863579  0.853555 -0.952387\n",
        "2000-06 -1.518775  1.547993 -1.691780 -0.342846\n",
        "2000-07  0.527235 -1.013869 -1.599967  1.281241\n",
        "2000-08 -0.481102  1.491652 -0.603823  0.530046\n",
        "2000-09 -0.713124  0.665538 -1.022847  0.858926\n",
        "2000-10 -2.697918 -0.099985  0.757826  0.228368\n",
        "2000-11  0.773896 -0.099863 -1.194049 -0.226406\n",
        "2000-12 -0.224165  1.136623  1.817829  0.036604\n",
        "2001-01 -0.798035 -0.318995 -0.213098 -1.734705\n",
        "2001-02  1.918934 -2.150659 -1.409389 -1.244332\n",
        "2001-03  0.323957 -1.145214 -0.310641 -1.333463\n",
        "2001-04  0.182925 -1.472738 -0.203789 -0.558670\n",
        "2001-05 -3.064494  2.070848 -0.767355  1.070463\n",
        "2001-06 -2.532961 -0.814210 -0.673900  0.157318\n",
        "2001-07 -0.020134  1.224493 -0.343157  2.049743\n",
        "2001-08  0.109136  1.686211 -1.525380  1.323928\n",
        "2001-09  2.162116  0.512445 -0.651782  0.049229\n",
        "2001-10  0.100791  0.050979  1.572882 -1.137316\n",
        "2001-11  0.443140  0.044351  0.578286 -1.140766\n",
        "2001-12 -1.798788  0.710481  0.019362  1.384274"
       ]
      }
     ],
     "prompt_number": 66
    },
    {
     "cell_type": "code",
     "collapsed": false,
     "input": [
      "type(periodSeries['A']) # This is a \"TimeSeries\" too"
     ],
     "language": "python",
     "metadata": {},
     "outputs": [
      {
       "metadata": {},
       "output_type": "pyout",
       "prompt_number": 67,
       "text": [
        "pandas.core.series.TimeSeries"
       ]
      }
     ],
     "prompt_number": 67
    },
    {
     "cell_type": "code",
     "collapsed": false,
     "input": [
      "periodSeries.index[0]"
     ],
     "language": "python",
     "metadata": {},
     "outputs": [
      {
       "metadata": {},
       "output_type": "pyout",
       "prompt_number": 68,
       "text": [
        "Period('2000-01', 'M')"
       ]
      }
     ],
     "prompt_number": 68
    },
    {
     "cell_type": "code",
     "collapsed": false,
     "input": [
      "def crappyCustomAggregator(dt): return pd.Period('{0}-{1}'.format(dt.year, dt.month), freq='M')\n",
      "ts3.groupby(crappyCustomAggregator).agg('mean') # This makes a little more sense"
     ],
     "language": "python",
     "metadata": {},
     "outputs": [
      {
       "html": [
        "<div style=\"max-height:1000px;max-width:1500px;overflow:auto;\">\n",
        "<table border=\"1\" class=\"dataframe\">\n",
        "  <thead>\n",
        "    <tr style=\"text-align: right;\">\n",
        "      <th></th>\n",
        "      <th>A</th>\n",
        "      <th>B</th>\n",
        "      <th>C</th>\n",
        "    </tr>\n",
        "  </thead>\n",
        "  <tbody>\n",
        "    <tr>\n",
        "      <th>2013-01</th>\n",
        "      <td> 0.557613</td>\n",
        "      <td> 0.512818</td>\n",
        "      <td> 0.451684</td>\n",
        "    </tr>\n",
        "    <tr>\n",
        "      <th>2013-02</th>\n",
        "      <td> 0.618039</td>\n",
        "      <td> 0.551681</td>\n",
        "      <td> 0.394509</td>\n",
        "    </tr>\n",
        "    <tr>\n",
        "      <th>2013-03</th>\n",
        "      <td> 0.484324</td>\n",
        "      <td> 0.518380</td>\n",
        "      <td> 0.653036</td>\n",
        "    </tr>\n",
        "    <tr>\n",
        "      <th>2013-04</th>\n",
        "      <td> 0.448557</td>\n",
        "      <td> 0.491792</td>\n",
        "      <td> 0.608685</td>\n",
        "    </tr>\n",
        "    <tr>\n",
        "      <th>2013-05</th>\n",
        "      <td> 0.646312</td>\n",
        "      <td> 0.456262</td>\n",
        "      <td> 0.433518</td>\n",
        "    </tr>\n",
        "    <tr>\n",
        "      <th>2013-06</th>\n",
        "      <td> 0.332497</td>\n",
        "      <td> 0.397555</td>\n",
        "      <td> 0.602137</td>\n",
        "    </tr>\n",
        "    <tr>\n",
        "      <th>2013-07</th>\n",
        "      <td> 0.536190</td>\n",
        "      <td> 0.463767</td>\n",
        "      <td> 0.357548</td>\n",
        "    </tr>\n",
        "    <tr>\n",
        "      <th>2013-08</th>\n",
        "      <td> 0.567003</td>\n",
        "      <td> 0.486926</td>\n",
        "      <td> 0.488087</td>\n",
        "    </tr>\n",
        "    <tr>\n",
        "      <th>2013-09</th>\n",
        "      <td> 0.464111</td>\n",
        "      <td> 0.482367</td>\n",
        "      <td> 0.413950</td>\n",
        "    </tr>\n",
        "    <tr>\n",
        "      <th>2013-10</th>\n",
        "      <td> 0.542624</td>\n",
        "      <td> 0.465717</td>\n",
        "      <td> 0.533276</td>\n",
        "    </tr>\n",
        "  </tbody>\n",
        "</table>\n",
        "</div>"
       ],
       "metadata": {},
       "output_type": "pyout",
       "prompt_number": 69,
       "text": [
        "                A         B         C\n",
        "2013-01  0.557613  0.512818  0.451684\n",
        "2013-02  0.618039  0.551681  0.394509\n",
        "2013-03  0.484324  0.518380  0.653036\n",
        "2013-04  0.448557  0.491792  0.608685\n",
        "2013-05  0.646312  0.456262  0.433518\n",
        "2013-06  0.332497  0.397555  0.602137\n",
        "2013-07  0.536190  0.463767  0.357548\n",
        "2013-08  0.567003  0.486926  0.488087\n",
        "2013-09  0.464111  0.482367  0.413950\n",
        "2013-10  0.542624  0.465717  0.533276"
       ]
      }
     ],
     "prompt_number": 69
    },
    {
     "cell_type": "code",
     "collapsed": false,
     "input": [
      "ts3.groupby(crappyCustomAggregator).agg('mean').plot() # The plots look the same"
     ],
     "language": "python",
     "metadata": {},
     "outputs": [
      {
       "metadata": {},
       "output_type": "pyout",
       "prompt_number": 70,
       "text": [
        "<matplotlib.axes.AxesSubplot at 0x288cc910>"
       ]
      },
      {
       "metadata": {},
       "output_type": "display_data",
       "png": "[encoded data removed]",
       "text": [
        "<matplotlib.figure.Figure at 0x28f33990>"
       ]
      }
     ],
     "prompt_number": 70
    },
    {
     "cell_type": "markdown",
     "metadata": {},
     "source": [
      "For more information, see <a href=\"http://pandas.pydata.org/pandas-docs/stable/timeseries.html#time-stamps-vs-time-spans\">documentation</a>."
     ]
    }
   ],
   "metadata": {}
  }
 ]
}